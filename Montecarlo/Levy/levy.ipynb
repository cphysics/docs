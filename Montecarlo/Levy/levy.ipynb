{
 "cells": [
  {
   "cell_type": "markdown",
   "metadata": {},
   "source": [
    "# Levy Quantum Path"
   ]
  },
  {
   "cell_type": "markdown",
   "metadata": {},
   "source": [
    "----------------------"
   ]
  },
  {
   "cell_type": "markdown",
   "metadata": {},
   "source": [
    "* Continuous Random Walk"
   ]
  },
  {
   "cell_type": "code",
   "execution_count": 8,
   "metadata": {
    "collapsed": true
   },
   "outputs": [],
   "source": [
    "%matplotlib inline"
   ]
  },
  {
   "cell_type": "code",
   "execution_count": 1,
   "metadata": {},
   "outputs": [
    {
     "name": "stdout",
     "output_type": "stream",
     "text": [
      "[0.0, 1.01509231498381, 0.8954574749069657, 0.4475173962954569, -0.6617069586993383, -0.38473534012694194, -0.6521628289908354, -1.550921896951777]\n"
     ]
    }
   ],
   "source": [
    "import math, random\n",
    "\n",
    "beta = 4.0\n",
    "N = 8\n",
    "sigma = math.sqrt(beta / N)\n",
    "x = [0.0]\n",
    "for k in range(N - 1):\n",
    "    x.append(random.gauss(x[-1], sigma))\n",
    "print x\n"
   ]
  },
  {
   "cell_type": "markdown",
   "metadata": {},
   "source": [
    "* Trivial Free Path"
   ]
  },
  {
   "cell_type": "code",
   "execution_count": 2,
   "metadata": {},
   "outputs": [
    {
     "name": "stdout",
     "output_type": "stream",
     "text": [
      "[0.0, 0.16650886545595994, 0.6100876683233167, 1.2878936165304946, 1.522730604023694, 1.8655448259378942, 1.8779816089586798, 1.4174193447820458, 1.0]\n"
     ]
    }
   ],
   "source": [
    "import math, random\n",
    "\n",
    "beta = 1.0\n",
    "N = 8\n",
    "sigma = math.sqrt(beta / N)\n",
    "xend = 1.0\n",
    "Upsilon = [0.0]\n",
    "for k in range(N):\n",
    "    Upsilon.append(random.gauss(Upsilon[-1], sigma))\n",
    "x = [0.0] + [Upsilon[k] + (xend - Upsilon[-1]) * \\\n",
    "             k / float(N) for k in range(1, N + 1)]\n",
    "print x\n"
   ]
  },
  {
   "cell_type": "markdown",
   "metadata": {},
   "source": [
    "* Levy Free Path"
   ]
  },
  {
   "cell_type": "code",
   "execution_count": 3,
   "metadata": {},
   "outputs": [
    {
     "name": "stdout",
     "output_type": "stream",
     "text": [
      "[0.0, 0.5707795321525617, 0.5866019527578654, 0.8089609595648815, 1.0]\n",
      "[0.0, -0.3396754967087857, 0.7235057663520837, 1.1315669585984993, 1.0]\n",
      "[0.0, 0.018063918143963353, 0.16434572728171748, 0.592993315765318, 1.0]\n",
      "[0.0, 0.2246140968885552, 0.966182738296046, 0.746201579459617, 1.0]\n",
      "[0.0, -0.23985854999079953, -0.23870459469931876, 0.14380281472001558, 1.0]\n",
      "[0.0, 0.15962908547527493, 1.137840942610433, 1.3625924641454001, 1.0]\n",
      "[0.0, -1.1579809269318322, -1.0786715345985927, 0.4854709061903433, 1.0]\n",
      "[0.0, 0.1404369341832184, 0.4541880825433704, 0.8673479702904441, 1.0]\n",
      "[0.0, 0.7425438080805121, 0.8693731794283786, 1.3336622912118516, 1.0]\n",
      "[0.0, 0.12440416711297678, 0.2510353241093216, 1.1245847853705508, 1.0]\n"
     ]
    }
   ],
   "source": [
    "import math, random\n",
    "\n",
    "beta = 1.0\n",
    "N = 4\n",
    "dtau = beta / N\n",
    "nsteps = 10                      # number of paths to be generated\n",
    "xstart, xend = 0.0, 1.0          # initial and final points\n",
    "for step in range(nsteps):\n",
    "    x = [xstart]\n",
    "    for k in range(1, N):        # loop over internal slices\n",
    "        dtau_prime = (N - k) * dtau\n",
    "        x_mean = (dtau_prime * x[k - 1] + dtau * xend) / \\\n",
    "                 (dtau + dtau_prime)\n",
    "        sigma = math.sqrt(1.0 / (1.0 / dtau + 1.0 / dtau_prime))\n",
    "        x.append(random.gauss(x_mean, sigma))\n",
    "    x.append(xend)\n",
    "    print x"
   ]
  },
  {
   "cell_type": "markdown",
   "metadata": {},
   "source": [
    "* Naive Harmonic Path "
   ]
  },
  {
   "cell_type": "code",
   "execution_count": 4,
   "metadata": {},
   "outputs": [
    {
     "name": "stdout",
     "output_type": "stream",
     "text": [
      "[0.0, 0.28998171631723735, 0.0, 0.0, 0.0, 0.0, 0.0, 0.0]\n",
      "[0.0, 0.28998171631723735, -0.4471023666935825, 0.0, 0.0, 0.0, 0.0, 0.0]\n",
      "[0.0, 0.28998171631723735, -0.4471023666935825, 0.0, -0.6140259897130926, 0.0, 0.0, 0.0]\n",
      "[0.0, 0.28998171631723735, -0.4471023666935825, 0.0, -0.6140259897130926, 0.186270538173831, 0.0, 0.0]\n",
      "[0.0, 0.28998171631723735, -0.6819150385978625, 0.0, -0.6140259897130926, 0.186270538173831, 0.0, 0.0]\n",
      "[0.0, 0.28998171631723735, -0.6819150385978625, 0.0, -0.6140259897130926, 0.186270538173831, 0.0, 0.0]\n",
      "[0.0, 0.28998171631723735, -0.6819150385978625, 0.0, -0.6140259897130926, 0.186270538173831, 0.0, -0.016680482140545738]\n",
      "[0.0, 0.28998171631723735, -0.6819150385978625, 0.0, -0.6140259897130926, -0.5351955742208034, 0.0, -0.016680482140545738]\n",
      "[0.0, 0.28998171631723735, -0.6819150385978625, 0.0, -0.6140259897130926, -0.5351955742208034, 0.0, -0.016680482140545738]\n",
      "[0.0, 0.28998171631723735, -0.6819150385978625, 0.0, -0.5748380328995746, -0.5351955742208034, 0.0, -0.016680482140545738]\n",
      "[0.0, 0.28998171631723735, -0.6819150385978625, 0.0, -0.5748380328995746, -0.5351955742208034, 0.0, 0.7494964267635531]\n",
      "[0.0, 0.28998171631723735, -0.6819150385978625, 0.0, -0.5748380328995746, -0.5351955742208034, 0.0, 0.7494964267635531]\n",
      "[0.0, 0.28998171631723735, -0.6819150385978625, 0.0, -0.5748380328995746, -0.5351955742208034, 0.0, 0.7494964267635531]\n",
      "[0.0, 0.28998171631723735, -0.6819150385978625, 0.0, -0.6758460008351141, -0.5351955742208034, 0.0, 0.7494964267635531]\n",
      "[0.0, 0.28998171631723735, -0.21280606021069515, 0.0, -0.6758460008351141, -0.5351955742208034, 0.0, 0.7494964267635531]\n",
      "[0.0, 0.28998171631723735, -0.21280606021069515, 0.0, -0.6758460008351141, -0.5351955742208034, 0.0, 0.7585771385895701]\n",
      "[0.0, 0.28998171631723735, -0.21280606021069515, 0.0, -0.6758460008351141, -0.5351955742208034, 0.0, 0.7585771385895701]\n",
      "[0.0, 0.28998171631723735, -0.21280606021069515, 0.0, -0.6758460008351141, -0.5351955742208034, 0.0, 0.7585771385895701]\n",
      "[0.4700080333224783, 0.28998171631723735, -0.21280606021069515, 0.0, -0.6758460008351141, -0.5351955742208034, 0.0, 0.7585771385895701]\n",
      "[0.4700080333224783, 0.28998171631723735, -0.21280606021069515, 0.0, -0.6758460008351141, -0.5351955742208034, 0.0, 0.7585771385895701]\n"
     ]
    }
   ],
   "source": [
    "import math, random\n",
    "\n",
    "def rho_free(x, y, beta):    # free off-diagonal density matrix\n",
    "    return math.exp(-(x - y) ** 2 / (2.0 * beta))\n",
    "\n",
    "beta = 4.0\n",
    "N = 8                        # number of slices\n",
    "dtau = beta / N\n",
    "delta = 1.0                  # maximum displacement of one bead\n",
    "n_steps = 20                 # number of Monte Carlo steps\n",
    "x = [0.0] * N                # initial path\n",
    "for step in xrange(n_steps):\n",
    "    k = random.randint(0, N - 1)                  # random slice\n",
    "    knext, kprev = (k + 1) % N, (k - 1) % N       # next/previous slices\n",
    "    x_new = x[k] + random.uniform(-delta, delta)  # new position at slice k\n",
    "    old_weight = (rho_free(x[knext], x[k], dtau) *\n",
    "                  rho_free(x[k], x[kprev], dtau) *\n",
    "                  math.exp(-0.5 * dtau * x[k] ** 2))\n",
    "    new_weight = (rho_free(x[knext], x_new, dtau) *\n",
    "                  rho_free(x_new, x[kprev], dtau) *\n",
    "                  math.exp(-0.5 * dtau * x_new ** 2))\n",
    "    if random.random() < new_weight / old_weight:\n",
    "        x[k] = x_new\n",
    "    print x\n"
   ]
  },
  {
   "cell_type": "markdown",
   "metadata": {},
   "source": [
    "* Naive Path Slice"
   ]
  },
  {
   "cell_type": "code",
   "execution_count": 6,
   "metadata": {},
   "outputs": [
    {
     "name": "stdout",
     "output_type": "stream",
     "text": [
      "0.095401252446\n",
      "0.095401252446\n",
      "0.512795106019\n",
      "0.512795106019\n",
      "0.512795106019\n",
      "0.512795106019\n",
      "0.512795106019\n",
      "0.512795106019\n",
      "0.901968228505\n",
      "0.901968228505\n"
     ]
    }
   ],
   "source": [
    "import math, random\n",
    "\n",
    "def rho_free(x, y, beta):\n",
    "    return math.exp(-(x - y) ** 2 / (2.0 * beta))\n",
    "\n",
    "dtau_prime  = 0.1\n",
    "dtau_dprime = 0.2\n",
    "x_prime  = 0.0\n",
    "x_dprime = 1.0\n",
    "delta = 1.0\n",
    "n_steps = 10\n",
    "xk = 0.0\n",
    "for step in xrange(n_steps):\n",
    "    xk_new = xk + random.uniform(-delta, delta)\n",
    "    old_weight  = (rho_free(x_dprime, xk, dtau_dprime) *\n",
    "                   rho_free(xk, x_prime, dtau_prime))\n",
    "    new_weight  = (rho_free(x_dprime, xk_new, dtau_dprime) * \n",
    "                   rho_free(xk_new, x_prime, dtau_prime))\n",
    "    if random.random() < new_weight / old_weight:\n",
    "        xk = xk_new\n",
    "    print xk\n"
   ]
  },
  {
   "cell_type": "markdown",
   "metadata": {},
   "source": [
    "* Naive Path Slice Movie"
   ]
  },
  {
   "cell_type": "code",
   "execution_count": 9,
   "metadata": {},
   "outputs": [
    {
     "data": {
      "image/png": "[encoded data removed]",
      "text/plain": [
       "<matplotlib.figure.Figure at 0x103dbc8d0>"
      ]
     },
     "metadata": {},
     "output_type": "display_data"
    }
   ],
   "source": [
    "import math, random, pylab\n",
    "\n",
    "def rho_free(x, y, beta):\n",
    "    return math.exp(-(x - y) ** 2 / (2.0 * beta))\n",
    "\n",
    "dtau_prime  = 0.1\n",
    "dtau_dprime = 0.2\n",
    "x_prime  = 0.0\n",
    "x_dprime = 1.0\n",
    "delta = 1.0                 # maximum displacement of xk\n",
    "n_steps = 1000           # number of Monte Carlo steps\n",
    "data_hist = []\n",
    "xk = 0.0                    # initial value of xk\n",
    "for step in xrange(n_steps):\n",
    "    xk_new = xk + random.uniform(-delta, delta)\n",
    "    old_weight  = (rho_free(x_dprime, xk, dtau_dprime) *\n",
    "                   rho_free(xk, x_prime, dtau_prime))\n",
    "    new_weight  = (rho_free(x_dprime, xk_new, dtau_dprime) * \n",
    "                   rho_free(xk_new, x_prime, dtau_prime))\n",
    "    if random.random() < new_weight / old_weight:\n",
    "        xk = xk_new\n",
    "    data_hist.append(xk)\n",
    "\n",
    "def pi_analytic(xk, x_prime, x_dprime, dtau_prime, dtau_dprime):\n",
    "    mean = (dtau_dprime * x_prime + dtau_prime * x_dprime) / (dtau_prime + dtau_dprime)\n",
    "    sigma = 1.0 / math.sqrt(1.0 / dtau_prime + 1.0 / dtau_dprime)\n",
    "    return math.exp(-(xk - mean) ** 2 / (2.0 * sigma ** 2)) / math.sqrt(2.0 * math.pi) / sigma\n",
    "\n",
    "pylab.title('Distribution on slice k', fontsize=18)\n",
    "histo, bin_edges, dummy = pylab.hist(data_hist, bins=100, normed=True)\n",
    "bin_centers = 0.5 * (bin_edges[1:] + bin_edges[:-1])\n",
    "pylab.plot(bin_centers, [pi_analytic(x, x_prime, x_dprime, dtau_prime, dtau_dprime) for x in bin_centers], 'r-', lw=3)\n",
    "pylab.xlabel('$x_k$', fontsize=18)\n",
    "pylab.ylabel('$\\pi(x_k)$', fontsize=18)\n",
    "#pylab.savefig('plot-path_slice.png')\n",
    "pylab.show()"
   ]
  },
  {
   "cell_type": "markdown",
   "metadata": {},
   "source": [
    "* Levy Harmonic Path"
   ]
  },
  {
   "cell_type": "code",
   "execution_count": 10,
   "metadata": {},
   "outputs": [
    {
     "name": "stdout",
     "output_type": "stream",
     "text": [
      "[0.0, -0.3585400331470993, -0.46657041443239394, 0.01352956236855482, 1.0]\n"
     ]
    }
   ],
   "source": [
    "import math, random\n",
    "\n",
    "beta = 1.0\n",
    "N = 4\n",
    "dtau = beta / N\n",
    "xstart, xend = 0.0, 1.0\n",
    "x = [xstart]\n",
    "for k in range(1, N):\n",
    "    dtau_prime = (N - k) * dtau\n",
    "    Ups1 = 1.0 / math.tanh(dtau) + \\\n",
    "           1.0 / math.tanh(dtau_prime)\n",
    "    Ups2 = x[k - 1] / math.sinh(dtau) + \\\n",
    "           xend / math.sinh(dtau_prime)\n",
    "    x.append(random.gauss(Ups2 / Ups1, \\\n",
    "             1.0 / math.sqrt(Ups1)))\n",
    "x.append(xend)\n",
    "print x"
   ]
  },
  {
   "cell_type": "markdown",
   "metadata": {},
   "source": [
    "* Levy Harmonic Path 3D"
   ]
  },
  {
   "cell_type": "code",
   "execution_count": 11,
   "metadata": {},
   "outputs": [
    {
     "name": "stdout",
     "output_type": "stream",
     "text": [
      "slice  0:   1.0 -2.0 1.5\n",
      "slice  1:   0.777748893943 -2.10539607648 1.73826482099\n",
      "slice  2:   0.763931019379 -2.14387236587 1.54684977036\n",
      "slice  3:   0.500747263585 -2.08049210773 1.58757506994\n",
      "slice  4:   0.429361380948 -1.98193292492 1.51647256244\n",
      "slice  5:   0.156144949185 -2.08472795151 1.24115678993\n",
      "slice  6:   -0.301482536938 -2.31425875183 1.2116215967\n",
      "slice  7:   -0.114110853331 -2.01170186332 1.31953455601\n",
      "slice  8:   -0.495169243534 -1.78954410128 1.26715746611\n",
      "slice  9:   -1.07124864136 -1.84323749154 1.22618560998\n",
      "slice 10:   -1.02146009154 -1.4469573166 1.12287349028\n",
      "slice 11:   -1.2202731479 -1.25130592701 1.17356480665\n",
      "slice 12:   -1.44734039796 -0.769759958407 0.871271945556\n",
      "slice 13:   -1.59945389072 -0.917060277419 0.950203408728\n",
      "slice 14:   -1.59348122639 -0.750802821523 0.624546501494\n",
      "slice 15:   -1.79081758311 -0.666414256381 0.444743391328\n",
      "slice 16:   -1.99247299059 -0.44958639971 0.362047069815\n",
      "slice 17:   -1.75822763813 -0.389265378081 0.0467617492471\n",
      "slice 18:   -2.35917386101 -0.396104505937 0.367460418148\n",
      "slice 19:   -2.39839736996 -0.0739252507074 -0.239433962495\n",
      "slice 20:   -2.5 0.0 -0.5\n"
     ]
    }
   ],
   "source": [
    "import math, random\n",
    "\n",
    "def levy_harmonic_1d(start, end, dtau):\n",
    "    x = [start]\n",
    "    for k in range(1, N):\n",
    "        dtau_prime = (N - k) * dtau\n",
    "        Ups1 = 1.0 / math.tanh(dtau) + \\\n",
    "               1.0 / math.tanh(dtau_prime)\n",
    "        Ups2 = x[k - 1] / math.sinh(dtau) + \\\n",
    "               end / math.sinh(dtau_prime)\n",
    "        x.append(random.gauss(Ups2 / Ups1, \\\n",
    "                 1.0 / math.sqrt(Ups1)))\n",
    "    x.append(end)\n",
    "    return x\n",
    "\n",
    "beta = 1.0\n",
    "N = 20\n",
    "dtau = beta / float(N)\n",
    "[xstart, ystart, zstart] = [1.0, -2.0, 1.5]\n",
    "[xend, yend, zend] = [-2.5, 0.0, -0.5]\n",
    "x = levy_harmonic_1d(xstart, xend, dtau)\n",
    "y = levy_harmonic_1d(ystart, yend, dtau)\n",
    "z = levy_harmonic_1d(zstart, zend, dtau)\n",
    "for i in range(N + 1):\n",
    "    print 'slice %2i:  ' % i, x[i], y[i], z[i]\n"
   ]
  },
  {
   "cell_type": "markdown",
   "metadata": {},
   "source": [
    "* Levy Harmonic Path Movie"
   ]
  },
  {
   "cell_type": "code",
   "execution_count": 12,
   "metadata": {},
   "outputs": [
    {
     "data": {
      "image/png": "[encoded data removed]",
      "text/plain": [
       "<matplotlib.figure.Figure at 0x10a6c8850>"
      ]
     },
     "metadata": {},
     "output_type": "display_data"
    },
    {
     "data": {
      "image/png": "[encoded data removed]",
      "text/plain": [
       "<matplotlib.figure.Figure at 0x10a55e490>"
      ]
     },
     "metadata": {},
     "output_type": "display_data"
    },
    {
     "data": {
      "image/png": "[encoded data removed]",
      "text/plain": [
       "<matplotlib.figure.Figure at 0x10b332e50>"
      ]
     },
     "metadata": {},
     "output_type": "display_data"
    },
    {
     "data": {
      "image/png": "[encoded data removed]",
      "text/plain": [
       "<matplotlib.figure.Figure at 0x10a5cbf10>"
      ]
     },
     "metadata": {},
     "output_type": "display_data"
    },
    {
     "data": {
      "image/png": "[encoded data removed]",
      "text/plain": [
       "<matplotlib.figure.Figure at 0x10b2affd0>"
      ]
     },
     "metadata": {},
     "output_type": "display_data"
    }
   ],
   "source": [
    "import math, random, pylab\n",
    "\n",
    "beta = 2.0\n",
    "N = 10\n",
    "dtau = beta / N\n",
    "nsteps = 5\n",
    "xstart, xend = 2.0, 1.0\n",
    "for step in range(nsteps):\n",
    "    x = [xstart]\n",
    "    for k in range(1, N):\n",
    "        dtau_prime = (N - k) * dtau\n",
    "        Ups1 = 1.0 / math.tanh(dtau) + \\\n",
    "               1.0 / math.tanh(dtau_prime)\n",
    "        Ups2 = x[k - 1] / math.sinh(dtau) + \\\n",
    "               xend / math.sinh(dtau_prime)\n",
    "        x.append(random.gauss(Ups2 / Ups1, \\\n",
    "                 1.0 / math.sqrt(Ups1)))\n",
    "    x.append(xend)\n",
    "    # graphics\n",
    "    pylab.plot(x, [j * dtau for j in range(N + 1)], 'bo-')\n",
    "    pylab.xlabel('$x$', fontsize=18)\n",
    "    pylab.ylabel('$\\\\tau$', fontsize=18)\n",
    "    pylab.title('Harmonic path %i' % step)\n",
    "    pylab.xlim(-2.0, 4.0)\n",
    "    pylab.show()\n",
    "    #pylab.close()"
   ]
  },
  {
   "cell_type": "markdown",
   "metadata": {},
   "source": [
    "# TUTORIAL"
   ]
  },
  {
   "cell_type": "markdown",
   "metadata": {},
   "source": [
    "--------------------"
   ]
  },
  {
   "cell_type": "markdown",
   "metadata": {},
   "source": [
    "* Naive Single Particle"
   ]
  },
  {
   "cell_type": "code",
   "execution_count": 13,
   "metadata": {},
   "outputs": [
    {
     "name": "stdout",
     "output_type": "stream",
     "text": [
      "  0 0 (0, 0, 0)\n",
      "  1 1 (0, 0, 1)\n",
      "  2 1 (0, 1, 0)\n",
      "  3 1 (1, 0, 0)\n",
      "  4 2 (0, 0, 2)\n"
     ]
    }
   ],
   "source": [
    "Emax = 5\n",
    "States = []\n",
    "for E_x in range(Emax):\n",
    "    for E_y in range(Emax):\n",
    "        for E_z in range(Emax):\n",
    "            States.append(((E_x + E_y + E_z), (E_x, E_y, E_z)))\n",
    "States.sort()\n",
    "for k in range(5):\n",
    "    print '%3d' % k, States[k][0], States[k][1]\n"
   ]
  },
  {
   "cell_type": "markdown",
   "metadata": {},
   "source": [
    "* Naive Boson Trap"
   ]
  },
  {
   "cell_type": "code",
   "execution_count": 14,
   "metadata": {},
   "outputs": [
    {
     "name": "stdout",
     "output_type": "stream",
     "text": [
      "575757 17.3732972183 1.03133265311 0.446969501933\n"
     ]
    }
   ],
   "source": [
    "import math\n",
    "\n",
    "Energy = [0.0] + [1.0] * 3 + [2.0] * 6 + [3.0] * 10 + [4.0] * 15\n",
    "beta = 1.0\n",
    "n_states = 0\n",
    "Z = 0.0\n",
    "N0_mean = 0.0\n",
    "E_mean = 0.0\n",
    "for s_0 in range(35):\n",
    "    for s_1 in range(s_0, 35):\n",
    "        for s_2 in range(s_1, 35):\n",
    "            for s_3 in range(s_2, 35):\n",
    "                for s_4 in range(s_3, 35):\n",
    "                    n_states += 1\n",
    "                    state = [s_0, s_1, s_2, s_3, s_4]\n",
    "                    E = sum(Energy[s] for s in state)\n",
    "                    Z += math.exp(-beta * E)\n",
    "                    E_mean += E * math.exp(-beta * E)\n",
    "                    N0_mean += state.count(0) *\\\n",
    "                               math.exp(-beta * E)\n",
    "print n_states, Z, E_mean / Z / 5.0, N0_mean / Z / 5.0\n"
   ]
  },
  {
   "cell_type": "code",
   "execution_count": null,
   "metadata": {
    "collapsed": true
   },
   "outputs": [],
   "source": []
  }
 ],
 "metadata": {
  "kernelspec": {
   "display_name": "Python 3",
   "language": "python",
   "name": "python3"
  },
  "language_info": {
   "codemirror_mode": {
    "name": "ipython",
    "version": 2
   },
   "file_extension": ".py",
   "mimetype": "text/x-python",
   "name": "python",
   "nbconvert_exporter": "python",
   "pygments_lexer": "ipython2",
   "version": "2.7.11"
  }
 },
 "nbformat": 4,
 "nbformat_minor": 1
}
