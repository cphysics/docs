{
 "cells": [
  {
   "cell_type": "markdown",
   "metadata": {},
   "source": [
    "# Ising Model - 2D using Importance Sampling"
   ]
  },
  {
   "cell_type": "markdown",
   "metadata": {},
   "source": [
    "First of all we import the required libraries:"
   ]
  },
  {
   "cell_type": "markdown",
   "metadata": {},
   "source": [
    "Date - Oct -9-2015"
   ]
  },
  {
   "cell_type": "code",
   "execution_count": null,
   "metadata": {},
   "outputs": [],
   "source": [
    "import matplotlib.pyplot as plt\n",
    "import math as math\n",
    "import random as random\n",
    "import pylab as pylab\n",
    "import numpy as np"
   ]
  },
  {
   "cell_type": "markdown",
   "metadata": {},
   "source": [
    "### Global parameters"
   ]
  },
  {
   "cell_type": "markdown",
   "metadata": {},
   "source": [
    "Then we set some global variables:"
   ]
  },
  {
   "cell_type": "code",
   "execution_count": 51,
   "metadata": {},
   "outputs": [],
   "source": [
    "Kb = 1.0\n",
    "JJ = 1.0"
   ]
  },
  {
   "cell_type": "markdown",
   "metadata": {},
   "source": [
    "### Cold Start and Hot Start"
   ]
  },
  {
   "cell_type": "markdown",
   "metadata": {},
   "source": [
    "Before begining simulation, if we select all spin up or all spin down then it is called cold configuration."
   ]
  },
  {
   "cell_type": "code",
   "execution_count": 3,
   "metadata": {},
   "outputs": [],
   "source": [
    "def cold_start(L):\n",
    "    U = [[1.0 for k in range(L)]for l in range(L)]\n",
    "    return U\n",
    "    "
   ]
  },
  {
   "cell_type": "markdown",
   "metadata": {},
   "source": [
    "We can make a plot of this cold configuration by the help of Uplotter :"
   ]
  },
  {
   "cell_type": "code",
   "execution_count": 6,
   "metadata": {},
   "outputs": [
    {
     "data": {
      "image/png": "[encoded data removed]",
      "text/plain": [
       "<matplotlib.figure.Figure at 0x10b6b7b50>"
      ]
     },
     "metadata": {},
     "output_type": "display_data"
    }
   ],
   "source": [
    "CU = cold_start(10)\n",
    "Uplotter(CU)"
   ]
  },
  {
   "cell_type": "markdown",
   "metadata": {},
   "source": [
    " if we select spin randomly up or down then it is called cold configuration"
   ]
  },
  {
   "cell_type": "code",
   "execution_count": 7,
   "metadata": {},
   "outputs": [],
   "source": [
    "def hot_start(L): \n",
    "      U = [[0.0 for i in range(L)]for j in range(L)]\n",
    "      for i in range(L):\n",
    "          for j in range(L):\n",
    "              t = random.sample([-1,1],1)\n",
    "              U[i][j] = t[0]  \n",
    "      return U "
   ]
  },
  {
   "cell_type": "markdown",
   "metadata": {},
   "source": [
    "Similarly we can plot thishot configuration as well."
   ]
  },
  {
   "cell_type": "code",
   "execution_count": 14,
   "metadata": {},
   "outputs": [
    {
     "data": {
      "image/png": "[encoded data removed]",
      "text/plain": [
       "<matplotlib.figure.Figure at 0x110430ed0>"
      ]
     },
     "metadata": {},
     "output_type": "display_data"
    }
   ],
   "source": [
    "HU = hot_start(10)\n",
    "Uplotter(HU)"
   ]
  },
  {
   "cell_type": "markdown",
   "metadata": {},
   "source": [
    "### Hamiltonian"
   ]
  },
  {
   "cell_type": "markdown",
   "metadata": {},
   "source": [
    "Hamiltonian of  L by L lattice is given by"
   ]
  },
  {
   "cell_type": "markdown",
   "metadata": {},
   "source": [
    "$H = - J \\sum_{i\\neq j} S_{i}S_{j}$"
   ]
  },
  {
   "cell_type": "code",
   "execution_count": 62,
   "metadata": {},
   "outputs": [],
   "source": [
    "def Hamiltonian(U):\n",
    "      H = 0.0\n",
    "      L = len(U)\n",
    "      for i in range(L):\n",
    "          for j in range(L):\n",
    "                \n",
    "              ni = 0;nj =0;\n",
    "              if i == 0: ni = L\n",
    "              if j == 0: nj = L\n",
    "           \n",
    "              H = H -  0.5*JJ*U[i][j]*(U[i][(j-1)+nj] \\\n",
    "                        + U[(i+1)%L][j] \\\n",
    "                        + U[i][(j+1)%L] \\\n",
    "                        + U[(i-1)+ni][j])   \n",
    "      return H"
   ]
  },
  {
   "cell_type": "markdown",
   "metadata": {},
   "source": [
    "One can check what are hamiltonian for hot and cold start:"
   ]
  },
  {
   "cell_type": "code",
   "execution_count": 16,
   "metadata": {},
   "outputs": [
    {
     "data": {
      "text/plain": [
       "-200.0"
      ]
     },
     "execution_count": 16,
     "metadata": {},
     "output_type": "execute_result"
    }
   ],
   "source": [
    "Hamiltonian(CU)"
   ]
  },
  {
   "cell_type": "code",
   "execution_count": 17,
   "metadata": {},
   "outputs": [
    {
     "data": {
      "text/plain": [
       "12.0"
      ]
     },
     "execution_count": 17,
     "metadata": {},
     "output_type": "execute_result"
    }
   ],
   "source": [
    "Hamiltonian(HU)"
   ]
  },
  {
   "cell_type": "markdown",
   "metadata": {},
   "source": [
    "### Mangnetization"
   ]
  },
  {
   "cell_type": "markdown",
   "metadata": {},
   "source": [
    "One can calculate magnetization by simply taking average over all spins:"
   ]
  },
  {
   "cell_type": "code",
   "execution_count": 63,
   "metadata": {},
   "outputs": [],
   "source": [
    "def magnetization(U):\n",
    "     m = 0.0\n",
    "     L = len(U)\n",
    "     for i in range(L):\n",
    "          for j in range(L):\n",
    "              m = m + U[i][j]\n",
    "     m = m/float(L*L)           \n",
    "     return m\n",
    "        "
   ]
  },
  {
   "cell_type": "code",
   "execution_count": 19,
   "metadata": {},
   "outputs": [
    {
     "data": {
      "text/plain": [
       "0.02"
      ]
     },
     "execution_count": 19,
     "metadata": {},
     "output_type": "execute_result"
    }
   ],
   "source": [
    "magnetization(HU)"
   ]
  },
  {
   "cell_type": "code",
   "execution_count": 20,
   "metadata": {},
   "outputs": [
    {
     "data": {
      "text/plain": [
       "1.0"
      ]
     },
     "execution_count": 20,
     "metadata": {},
     "output_type": "execute_result"
    }
   ],
   "source": [
    "magnetization(CU)"
   ]
  },
  {
   "cell_type": "markdown",
   "metadata": {},
   "source": [
    "### Spin Flipper"
   ]
  },
  {
   "cell_type": "code",
   "execution_count": 21,
   "metadata": {},
   "outputs": [],
   "source": [
    "def ld(k,L):\n",
    "    if k == 0:\n",
    "        return L\n",
    "    else: return 0"
   ]
  },
  {
   "cell_type": "code",
   "execution_count": 87,
   "metadata": {},
   "outputs": [],
   "source": [
    "def spin_flipper(U,printkey):\n",
    "        L = len(U)\n",
    "        \n",
    "        i = random.randint(0, L-1) \n",
    "        j = random.randint(0, L-1)\n",
    "       \n",
    "        if printkey ==1:print \"flipped at\", i,j\n",
    "            \n",
    "        U[i][j] = -U[i][j]\n",
    "       \n",
    "           \n",
    "        dH =  -2.0*JJ*U[i][j]*(U[i][(j-1)+ld(j,L)] \\\n",
    "                            + U[(i+1)%L][j] \\\n",
    "                            + U[i][(j+1)%L] \\\n",
    "                            + U[(i-1)+ld(i,L)][j])      \n",
    "        \n",
    "        return U,dH,i,j "
   ]
  },
  {
   "cell_type": "markdown",
   "metadata": {},
   "source": [
    "### Thermalization"
   ]
  },
  {
   "cell_type": "code",
   "execution_count": 110,
   "metadata": {},
   "outputs": [],
   "source": [
    "def Thermalization(U,T,nrun,printkey) :\n",
    "        M = [0.0 for k in range(nrun)]\n",
    "        irun = 0       \n",
    "       \n",
    "       \n",
    "        while irun < nrun:\n",
    "                    V = U\n",
    "                    w = magnetization(U)\n",
    "                    \n",
    "                    U,dH,p,q = spin_flipper(U,printkey)\n",
    "                   \n",
    "                   \n",
    "                    if dH < 0:\n",
    "                        \n",
    "                        if printkey ==1: print irun, \"E decreased! You are accepted !\",dH\n",
    "                            \n",
    "                        M[irun] = magnetization(U)\n",
    "                       \n",
    "                    else:\n",
    "                        \n",
    "                       if printkey ==1:print irun, \"E increased!\",dH\n",
    "                            \n",
    "                       frac = math.exp(-dH/(Kb*T))\n",
    "                       b = random.uniform(0.0,1.0)\n",
    "                            \n",
    "                       if printkey ==1:print \"frac =\",frac,\"b=\",b,\"dH = \",dH\n",
    "                                \n",
    "                       if  b < frac:\n",
    "                                    \n",
    "                            if printkey ==1:print irun, \" You Lucky!\"\n",
    "                                \n",
    "                            M[irun] = magnetization(U)\n",
    "                             \n",
    "                       else:\n",
    "                            if printkey ==1: print irun, \"Loser!\"\n",
    "                            if printkey ==1: print \"spin restablished at\",p,q\n",
    "                            U[p][q] = -U[p][q]\n",
    "                            M[irun] = w \n",
    "                           \n",
    "                            \n",
    "                    for i in range(L):\n",
    "                        for j in range(L):\n",
    "                            if U[i][j] != V[i][i]:\n",
    "                                 if printkey ==1: print\"Warning!spin is changed!\", i,j \n",
    "                            \n",
    "                    \n",
    "                    \n",
    "                    \n",
    "                    if printkey ==2 : print irun, M[irun]   \n",
    "                    irun = irun +1\n",
    "        return M,U"
   ]
  },
  {
   "cell_type": "markdown",
   "metadata": {},
   "source": [
    "Lets print out some measurements of m"
   ]
  },
  {
   "cell_type": "code",
   "execution_count": 112,
   "metadata": {},
   "outputs": [
    {
     "name": "stdout",
     "output_type": "stream",
     "text": [
      "flipped at 2 6\n",
      "0 E increased! 8.0\n",
      "frac = 0.000335462627903 b= 0.200945442416 dH =  8.0\n",
      "0 Loser!\n",
      "spin restablished at 2 6\n",
      "flipped at 5 3\n",
      "1 E increased! 8.0\n",
      "frac = 0.000335462627903 b= 0.208228177318 dH =  8.0\n",
      "1 Loser!\n",
      "spin restablished at 5 3\n",
      "flipped at 3 9\n",
      "2 E increased! 8.0\n",
      "frac = 0.000335462627903 b= 0.518140057869 dH =  8.0\n",
      "2 Loser!\n",
      "spin restablished at 3 9\n",
      "flipped at 7 2\n",
      "3 E increased! 8.0\n",
      "frac = 0.000335462627903 b= 0.453525585218 dH =  8.0\n",
      "3 Loser!\n",
      "spin restablished at 7 2\n",
      "flipped at 4 2\n",
      "4 E increased! 8.0\n",
      "frac = 0.000335462627903 b= 0.301315970059 dH =  8.0\n",
      "4 Loser!\n",
      "spin restablished at 4 2\n",
      "flipped at 1 1\n",
      "5 E increased! 8.0\n",
      "frac = 0.000335462627903 b= 0.559871016385 dH =  8.0\n",
      "5 Loser!\n",
      "spin restablished at 1 1\n",
      "flipped at 3 7\n",
      "6 E increased! 8.0\n",
      "frac = 0.000335462627903 b= 0.364710311714 dH =  8.0\n",
      "6 Loser!\n",
      "spin restablished at 3 7\n",
      "flipped at 4 9\n",
      "7 E increased! 8.0\n",
      "frac = 0.000335462627903 b= 0.589989052706 dH =  8.0\n",
      "7 Loser!\n",
      "spin restablished at 4 9\n",
      "flipped at 5 7\n",
      "8 E increased! 8.0\n",
      "frac = 0.000335462627903 b= 0.00373832879324 dH =  8.0\n",
      "8 Loser!\n",
      "spin restablished at 5 7\n",
      "flipped at 7 8\n",
      "9 E increased! 8.0\n",
      "frac = 0.000335462627903 b= 0.667080358921 dH =  8.0\n",
      "9 Loser!\n",
      "spin restablished at 7 8\n",
      "flipped at 2 8\n",
      "10 E increased! 8.0\n",
      "frac = 0.000335462627903 b= 0.958643303676 dH =  8.0\n",
      "10 Loser!\n",
      "spin restablished at 2 8\n",
      "flipped at 2 0\n",
      "11 E increased! 8.0\n",
      "frac = 0.000335462627903 b= 0.117960949982 dH =  8.0\n",
      "11 Loser!\n",
      "spin restablished at 2 0\n",
      "flipped at 1 7\n",
      "12 E increased! 8.0\n",
      "frac = 0.000335462627903 b= 0.128279159058 dH =  8.0\n",
      "12 Loser!\n",
      "spin restablished at 1 7\n",
      "flipped at 1 6\n",
      "13 E increased! 8.0\n",
      "frac = 0.000335462627903 b= 0.41237756183 dH =  8.0\n",
      "13 Loser!\n",
      "spin restablished at 1 6\n",
      "flipped at 3 4\n",
      "14 E increased! 8.0\n",
      "frac = 0.000335462627903 b= 0.208921911192 dH =  8.0\n",
      "14 Loser!\n",
      "spin restablished at 3 4\n",
      "flipped at 5 4\n",
      "15 E increased! 8.0\n",
      "frac = 0.000335462627903 b= 0.121113318063 dH =  8.0\n",
      "15 Loser!\n",
      "spin restablished at 5 4\n",
      "flipped at 2 1\n",
      "16 E increased! 8.0\n",
      "frac = 0.000335462627903 b= 0.91059155363 dH =  8.0\n",
      "16 Loser!\n",
      "spin restablished at 2 1\n",
      "flipped at 2 2\n",
      "17 E increased! 8.0\n",
      "frac = 0.000335462627903 b= 0.0312121693169 dH =  8.0\n",
      "17 Loser!\n",
      "spin restablished at 2 2\n",
      "flipped at 7 5\n",
      "18 E increased! 8.0\n",
      "frac = 0.000335462627903 b= 0.44423543869 dH =  8.0\n",
      "18 Loser!\n",
      "spin restablished at 7 5\n",
      "flipped at 9 8\n",
      "19 E increased! 8.0\n",
      "frac = 0.000335462627903 b= 0.838164630904 dH =  8.0\n",
      "19 Loser!\n",
      "spin restablished at 9 8\n",
      "flipped at 4 4\n",
      "20 E increased! 8.0\n",
      "frac = 0.000335462627903 b= 0.978984488947 dH =  8.0\n",
      "20 Loser!\n",
      "spin restablished at 4 4\n",
      "flipped at 9 1\n",
      "21 E increased! 8.0\n",
      "frac = 0.000335462627903 b= 0.660100062089 dH =  8.0\n",
      "21 Loser!\n",
      "spin restablished at 9 1\n",
      "flipped at 0 9\n",
      "22 E increased! 8.0\n",
      "frac = 0.000335462627903 b= 0.384350846156 dH =  8.0\n",
      "22 Loser!\n",
      "spin restablished at 0 9\n",
      "flipped at 8 3\n",
      "23 E increased! 8.0\n",
      "frac = 0.000335462627903 b= 0.147521237768 dH =  8.0\n",
      "23 Loser!\n",
      "spin restablished at 8 3\n",
      "flipped at 1 2\n",
      "24 E increased! 8.0\n",
      "frac = 0.000335462627903 b= 0.245418005023 dH =  8.0\n",
      "24 Loser!\n",
      "spin restablished at 1 2\n",
      "flipped at 7 4\n",
      "25 E increased! 8.0\n",
      "frac = 0.000335462627903 b= 0.566226070388 dH =  8.0\n",
      "25 Loser!\n",
      "spin restablished at 7 4\n",
      "flipped at 8 6\n",
      "26 E increased! 8.0\n",
      "frac = 0.000335462627903 b= 0.470824511812 dH =  8.0\n",
      "26 Loser!\n",
      "spin restablished at 8 6\n",
      "flipped at 9 1\n",
      "27 E increased! 8.0\n",
      "frac = 0.000335462627903 b= 0.468902208133 dH =  8.0\n",
      "27 Loser!\n",
      "spin restablished at 9 1\n",
      "flipped at 3 3\n",
      "28 E increased! 8.0\n",
      "frac = 0.000335462627903 b= 0.956164659389 dH =  8.0\n",
      "28 Loser!\n",
      "spin restablished at 3 3\n",
      "flipped at 7 5\n",
      "29 E increased! 8.0\n",
      "frac = 0.000335462627903 b= 0.427388520837 dH =  8.0\n",
      "29 Loser!\n",
      "spin restablished at 7 5\n",
      "flipped at 9 2\n",
      "30 E increased! 8.0\n",
      "frac = 0.000335462627903 b= 0.043987391181 dH =  8.0\n",
      "30 Loser!\n",
      "spin restablished at 9 2\n",
      "flipped at 7 8\n",
      "31 E increased! 8.0\n",
      "frac = 0.000335462627903 b= 0.666327053159 dH =  8.0\n",
      "31 Loser!\n",
      "spin restablished at 7 8\n",
      "flipped at 7 0\n",
      "32 E increased! 8.0\n",
      "frac = 0.000335462627903 b= 0.515433733306 dH =  8.0\n",
      "32 Loser!\n",
      "spin restablished at 7 0\n",
      "flipped at 2 8\n",
      "33 E increased! 8.0\n",
      "frac = 0.000335462627903 b= 0.167613150653 dH =  8.0\n",
      "33 Loser!\n",
      "spin restablished at 2 8\n",
      "flipped at 0 3\n",
      "34 E increased! 8.0\n",
      "frac = 0.000335462627903 b= 0.345178826725 dH =  8.0\n",
      "34 Loser!\n",
      "spin restablished at 0 3\n",
      "flipped at 0 1\n",
      "35 E increased! 8.0\n",
      "frac = 0.000335462627903 b= 0.513958539065 dH =  8.0\n",
      "35 Loser!\n",
      "spin restablished at 0 1\n",
      "flipped at 6 8\n",
      "36 E increased! 8.0\n",
      "frac = 0.000335462627903 b= 0.4871901386 dH =  8.0\n",
      "36 Loser!\n",
      "spin restablished at 6 8\n",
      "flipped at 7 2\n",
      "37 E increased! 8.0\n",
      "frac = 0.000335462627903 b= 0.59898662047 dH =  8.0\n",
      "37 Loser!\n",
      "spin restablished at 7 2\n",
      "flipped at 4 9\n",
      "38 E increased! 8.0\n",
      "frac = 0.000335462627903 b= 0.0847937443966 dH =  8.0\n",
      "38 Loser!\n",
      "spin restablished at 4 9\n",
      "flipped at 5 6\n",
      "39 E increased! 8.0\n",
      "frac = 0.000335462627903 b= 0.098801882584 dH =  8.0\n",
      "39 Loser!\n",
      "spin restablished at 5 6\n",
      "flipped at 2 4\n",
      "40 E increased! 8.0\n",
      "frac = 0.000335462627903 b= 0.653577770213 dH =  8.0\n",
      "40 Loser!\n",
      "spin restablished at 2 4\n",
      "flipped at 7 3\n",
      "41 E increased! 8.0\n",
      "frac = 0.000335462627903 b= 0.302675497483 dH =  8.0\n",
      "41 Loser!\n",
      "spin restablished at 7 3\n",
      "flipped at 2 6\n",
      "42 E increased! 8.0\n",
      "frac = 0.000335462627903 b= 0.46557731556 dH =  8.0\n",
      "42 Loser!\n",
      "spin restablished at 2 6\n",
      "flipped at 1 0\n",
      "43 E increased! 8.0\n",
      "frac = 0.000335462627903 b= 0.0854198113429 dH =  8.0\n",
      "43 Loser!\n",
      "spin restablished at 1 0\n",
      "flipped at 1 9\n",
      "44 E increased! 8.0\n",
      "frac = 0.000335462627903 b= 0.666489537978 dH =  8.0\n",
      "44 Loser!\n",
      "spin restablished at 1 9\n",
      "flipped at 5 0\n",
      "45 E increased! 8.0\n",
      "frac = 0.000335462627903 b= 0.214381681158 dH =  8.0\n",
      "45 Loser!\n",
      "spin restablished at 5 0\n",
      "flipped at 0 1\n",
      "46 E increased! 8.0\n",
      "frac = 0.000335462627903 b= 0.947652883231 dH =  8.0\n",
      "46 Loser!\n",
      "spin restablished at 0 1\n",
      "flipped at 2 7\n",
      "47 E increased! 8.0\n",
      "frac = 0.000335462627903 b= 0.224155338588 dH =  8.0\n",
      "47 Loser!\n",
      "spin restablished at 2 7\n",
      "flipped at 1 1\n",
      "48 E increased! 8.0\n",
      "frac = 0.000335462627903 b= 0.922718106128 dH =  8.0\n",
      "48 Loser!\n",
      "spin restablished at 1 1\n",
      "flipped at 3 0\n",
      "49 E increased! 8.0\n",
      "frac = 0.000335462627903 b= 0.226445418861 dH =  8.0\n",
      "49 Loser!\n",
      "spin restablished at 3 0\n",
      "flipped at 6 6\n",
      "50 E increased! 8.0\n",
      "frac = 0.000335462627903 b= 0.859615061628 dH =  8.0\n",
      "50 Loser!\n",
      "spin restablished at 6 6\n",
      "flipped at 4 6\n",
      "51 E increased! 8.0\n",
      "frac = 0.000335462627903 b= 0.104605351213 dH =  8.0\n",
      "51 Loser!\n",
      "spin restablished at 4 6\n",
      "flipped at 9 8\n",
      "52 E increased! 8.0\n",
      "frac = 0.000335462627903 b= 0.762546438422 dH =  8.0\n",
      "52 Loser!\n",
      "spin restablished at 9 8\n",
      "flipped at 5 6\n",
      "53 E increased! 8.0\n",
      "frac = 0.000335462627903 b= 0.37637421483 dH =  8.0\n",
      "53 Loser!\n",
      "spin restablished at 5 6\n",
      "flipped at 0 4\n",
      "54 E increased! 8.0\n",
      "frac = 0.000335462627903 b= 0.22018392926 dH =  8.0\n",
      "54 Loser!\n",
      "spin restablished at 0 4\n",
      "flipped at 6 3\n",
      "55 E increased! 8.0\n",
      "frac = 0.000335462627903 b= 0.559080327422 dH =  8.0\n",
      "55 Loser!\n",
      "spin restablished at 6 3\n",
      "flipped at 0 4\n",
      "56 E increased! 8.0\n",
      "frac = 0.000335462627903 b= 0.067818661091 dH =  8.0\n",
      "56 Loser!\n",
      "spin restablished at 0 4\n",
      "flipped at 0 1\n",
      "57 E increased! 8.0\n",
      "frac = 0.000335462627903 b= 0.592962993336 dH =  8.0\n",
      "57 Loser!\n",
      "spin restablished at 0 1\n",
      "flipped at 7 5\n",
      "58 E increased! 8.0\n",
      "frac = 0.000335462627903 b= 0.359231837157 dH =  8.0\n",
      "58 Loser!\n",
      "spin restablished at 7 5\n",
      "flipped at 9 7\n",
      "59 E increased! 8.0\n",
      "frac = 0.000335462627903 b= 0.365371314382 dH =  8.0\n",
      "59 Loser!\n",
      "spin restablished at 9 7\n",
      "flipped at 1 4\n",
      "60 E increased! 8.0\n",
      "frac = 0.000335462627903 b= 0.0238130043524 dH =  8.0\n",
      "60 Loser!\n",
      "spin restablished at 1 4\n",
      "flipped at 1 2\n",
      "61 E increased! 8.0\n",
      "frac = 0.000335462627903 b= 0.171939714452 dH =  8.0\n",
      "61 Loser!\n",
      "spin restablished at 1 2\n",
      "flipped at 1 4\n",
      "62 E increased! 8.0\n",
      "frac = 0.000335462627903 b= 0.798151394609 dH =  8.0\n",
      "62 Loser!\n",
      "spin restablished at 1 4\n",
      "flipped at 5 9\n",
      "63 E increased! 8.0\n",
      "frac = 0.000335462627903 b= 0.521864864986 dH =  8.0\n",
      "63 Loser!\n",
      "spin restablished at 5 9\n",
      "flipped at 4 8\n",
      "64 E increased! 8.0\n",
      "frac = 0.000335462627903 b= 0.039200037808 dH =  8.0\n",
      "64 Loser!\n",
      "spin restablished at 4 8\n",
      "flipped at 9 3\n",
      "65 E increased! 8.0\n",
      "frac = 0.000335462627903 b= 0.907378398139 dH =  8.0\n",
      "65 Loser!\n",
      "spin restablished at 9 3\n",
      "flipped at 3 9\n",
      "66 E increased! 8.0\n",
      "frac = 0.000335462627903 b= 0.786255454713 dH =  8.0\n",
      "66 Loser!\n",
      "spin restablished at 3 9\n",
      "flipped at 1 8\n",
      "67 E increased! 8.0\n",
      "frac = 0.000335462627903 b= 0.151408860995 dH =  8.0\n",
      "67 Loser!\n",
      "spin restablished at 1 8\n",
      "flipped at 2 7\n",
      "68 E increased! 8.0\n",
      "frac = 0.000335462627903 b= 0.677180391392 dH =  8.0\n",
      "68 Loser!\n",
      "spin restablished at 2 7\n",
      "flipped at 7 5\n",
      "69 E increased! 8.0\n",
      "frac = 0.000335462627903 b= 0.626863122695 dH =  8.0\n",
      "69 Loser!\n",
      "spin restablished at 7 5\n",
      "flipped at 2 1\n",
      "70 E increased! 8.0\n",
      "frac = 0.000335462627903 b= 0.66123249829 dH =  8.0\n",
      "70 Loser!\n",
      "spin restablished at 2 1\n",
      "flipped at 0 4\n",
      "71 E increased! 8.0\n",
      "frac = 0.000335462627903 b= 0.293850188133 dH =  8.0\n",
      "71 Loser!\n",
      "spin restablished at 0 4\n",
      "flipped at 3 4\n",
      "72 E increased! 8.0\n",
      "frac = 0.000335462627903 b= 0.594377916307 dH =  8.0\n",
      "72 Loser!\n",
      "spin restablished at 3 4\n",
      "flipped at 0 2\n",
      "73 E increased! 8.0\n",
      "frac = 0.000335462627903 b= 0.2981661573 dH =  8.0\n",
      "73 Loser!\n",
      "spin restablished at 0 2\n",
      "flipped at 0 6\n",
      "74 E increased! 8.0\n",
      "frac = 0.000335462627903 b= 0.632308851963 dH =  8.0\n",
      "74 Loser!\n",
      "spin restablished at 0 6\n",
      "flipped at 3 4\n",
      "75 E increased! 8.0\n",
      "frac = 0.000335462627903 b= 0.0121514733002 dH =  8.0\n",
      "75 Loser!\n",
      "spin restablished at 3 4\n",
      "flipped at 4 5\n",
      "76 E increased! 8.0\n",
      "frac = 0.000335462627903 b= 0.264421186353 dH =  8.0\n",
      "76 Loser!\n",
      "spin restablished at 4 5\n",
      "flipped at 2 4\n",
      "77 E increased! 8.0\n",
      "frac = 0.000335462627903 b= 0.824902228556 dH =  8.0\n",
      "77 Loser!\n",
      "spin restablished at 2 4\n",
      "flipped at 0 7\n",
      "78 E increased! 8.0\n",
      "frac = 0.000335462627903 b= 0.0214405875202 dH =  8.0\n",
      "78 Loser!\n",
      "spin restablished at 0 7\n",
      "flipped at 1 5\n",
      "79 E increased! 8.0\n",
      "frac = 0.000335462627903 b= 0.210900739425 dH =  8.0\n",
      "79 Loser!\n",
      "spin restablished at 1 5\n",
      "flipped at 4 5\n",
      "80 E increased! 8.0\n",
      "frac = 0.000335462627903 b= 0.574664768366 dH =  8.0\n",
      "80 Loser!\n",
      "spin restablished at 4 5\n",
      "flipped at 2 7\n",
      "81 E increased! 8.0\n",
      "frac = 0.000335462627903 b= 0.847649373404 dH =  8.0\n",
      "81 Loser!\n",
      "spin restablished at 2 7\n",
      "flipped at 7 3\n",
      "82 E increased! 8.0\n",
      "frac = 0.000335462627903 b= 0.832491150391 dH =  8.0\n",
      "82 Loser!\n",
      "spin restablished at 7 3\n",
      "flipped at 1 2\n",
      "83 E increased! 8.0\n",
      "frac = 0.000335462627903 b= 0.855154490886 dH =  8.0\n",
      "83 Loser!\n",
      "spin restablished at 1 2\n",
      "flipped at 8 7\n",
      "84 E increased! 8.0\n",
      "frac = 0.000335462627903 b= 0.655322271761 dH =  8.0\n",
      "84 Loser!\n",
      "spin restablished at 8 7\n",
      "flipped at 0 1\n",
      "85 E increased! 8.0\n",
      "frac = 0.000335462627903 b= 0.406890106087 dH =  8.0\n",
      "85 Loser!\n",
      "spin restablished at 0 1\n",
      "flipped at 1 2\n",
      "86 E increased! 8.0\n",
      "frac = 0.000335462627903 b= 0.000673501357872 dH =  8.0\n",
      "86 Loser!\n",
      "spin restablished at 1 2\n",
      "flipped at 3 5\n",
      "87 E increased! 8.0\n",
      "frac = 0.000335462627903 b= 0.507304936668 dH =  8.0\n",
      "87 Loser!\n",
      "spin restablished at 3 5\n",
      "flipped at 2 0\n",
      "88 E increased! 8.0\n",
      "frac = 0.000335462627903 b= 0.245869405573 dH =  8.0\n",
      "88 Loser!\n",
      "spin restablished at 2 0\n",
      "flipped at 0 3\n",
      "89 E increased! 8.0\n",
      "frac = 0.000335462627903 b= 0.718536865241 dH =  8.0\n",
      "89 Loser!\n",
      "spin restablished at 0 3\n",
      "flipped at 1 5\n",
      "90 E increased! 8.0\n",
      "frac = 0.000335462627903 b= 0.736465815937 dH =  8.0\n",
      "90 Loser!\n",
      "spin restablished at 1 5\n",
      "flipped at 4 7\n",
      "91 E increased! 8.0\n",
      "frac = 0.000335462627903 b= 0.265875688904 dH =  8.0\n",
      "91 Loser!\n",
      "spin restablished at 4 7\n",
      "flipped at 1 1\n",
      "92 E increased! 8.0\n",
      "frac = 0.000335462627903 b= 0.954550813922 dH =  8.0\n",
      "92 Loser!\n",
      "spin restablished at 1 1\n",
      "flipped at 5 3\n",
      "93 E increased! 8.0\n",
      "frac = 0.000335462627903 b= 0.0460167879754 dH =  8.0\n",
      "93 Loser!\n",
      "spin restablished at 5 3\n",
      "flipped at 6 9\n",
      "94 E increased! 8.0\n",
      "frac = 0.000335462627903 b= 0.198101449804 dH =  8.0\n",
      "94 Loser!\n",
      "spin restablished at 6 9\n",
      "flipped at 5 1\n",
      "95 E increased! 8.0\n",
      "frac = 0.000335462627903 b= 0.725967185102 dH =  8.0\n",
      "95 Loser!\n",
      "spin restablished at 5 1\n",
      "flipped at 4 5\n",
      "96 E increased! 8.0\n",
      "frac = 0.000335462627903 b= 0.985048609735 dH =  8.0\n",
      "96 Loser!\n",
      "spin restablished at 4 5\n",
      "flipped at 4 9\n",
      "97 E increased! 8.0\n",
      "frac = 0.000335462627903 b= 0.530198025988 dH =  8.0\n",
      "97 Loser!\n",
      "spin restablished at 4 9\n",
      "flipped at 0 7\n",
      "98 E increased! 8.0\n",
      "frac = 0.000335462627903 b= 0.291920780419 dH =  8.0\n",
      "98 Loser!\n",
      "spin restablished at 0 7\n",
      "flipped at 9 5\n",
      "99 E increased! 8.0\n",
      "frac = 0.000335462627903 b= 0.885533031239 dH =  8.0\n",
      "99 Loser!\n",
      "spin restablished at 9 5\n"
     ]
    }
   ],
   "source": [
    "nrun = 100\n",
    "T = 1.0\n",
    "L = 10\n",
    "U = cold_start(L)  \n",
    "M,U = Thermalization(U,T,nrun, 1)"
   ]
  },
  {
   "cell_type": "markdown",
   "metadata": {},
   "source": [
    "### Mplotter"
   ]
  },
  {
   "cell_type": "code",
   "execution_count": 98,
   "metadata": {},
   "outputs": [],
   "source": [
    "def thrmal_plotter(M,nrun) :\n",
    "        X = np.arange(0,len(M),1)\n",
    "        plt.figure(1)\n",
    "        plt.grid()\n",
    "        plt.plot(X,M,\"-\")\n",
    "        plt.axis([0,nrun,-1.2,1.2])\n",
    "        plt.show()     \n",
    "            \n",
    "        return         "
   ]
  },
  {
   "cell_type": "code",
   "execution_count": 125,
   "metadata": {},
   "outputs": [
    {
     "data": {
      "image/png": "[encoded data removed]",
      "text/plain": [
       "<matplotlib.figure.Figure at 0x110efe310>"
      ]
     },
     "metadata": {},
     "output_type": "display_data"
    }
   ],
   "source": [
    "L = 20\n",
    "nrun = 10000\n",
    "T = 2.4\n",
    "U = cold_start(L) \n",
    "M,U = Thermalization(U,T,nrun, 0)\n",
    "thrmal_plotter(M,nrun)\n",
    "#Uplotter(U)"
   ]
  },
  {
   "cell_type": "markdown",
   "metadata": {},
   "source": [
    "We can plot both run with hot and cold start together:"
   ]
  },
  {
   "cell_type": "code",
   "execution_count": 127,
   "metadata": {},
   "outputs": [
    {
     "data": {
      "image/png": "[encoded data removed]",
      "text/plain": [
       "<matplotlib.figure.Figure at 0x10bd188d0>"
      ]
     },
     "metadata": {},
     "output_type": "display_data"
    }
   ],
   "source": [
    "L =20\n",
    "nrun = 10000\n",
    "T = 5.0\n",
    "U1 = cold_start(L) \n",
    "U2 = hot_start(L)\n",
    "M1,U1 = Thermalization(U1,T,nrun,0)\n",
    "M2,U2 = Thermalization(U2,T,nrun,0)\n",
    "X = np.arange(0,len(M1),1)\n",
    "\n",
    "plt.figure(1)\n",
    "plt.grid()\n",
    "plt.plot(X,M1,\"-\")\n",
    "plt.plot(X,M2,\"-\")\n",
    "plt.axis([0,nrun,-1,1])\n",
    "plt.show()\n"
   ]
  },
  {
   "cell_type": "markdown",
   "metadata": {},
   "source": [
    "### Phase Transition"
   ]
  },
  {
   "cell_type": "code",
   "execution_count": 132,
   "metadata": {},
   "outputs": [
    {
     "data": {
      "image/png": "[encoded data removed]",
      "text/plain": [
       "<matplotlib.figure.Figure at 0x110200150>"
      ]
     },
     "metadata": {},
     "output_type": "display_data"
    }
   ],
   "source": [
    "L = 32\n",
    "nrun = 10000\n",
    "Tn = 100\n",
    "avm = []\n",
    "KT = []\n",
    "for t in range(1,Tn+1):\n",
    "        T = 0.1*t\n",
    "        KT.append(T)\n",
    "        U = cold_start(L)\n",
    "        M,U = Thermalization(U,T,nrun,0)\n",
    "        nM = M[1000:nrun-1]\n",
    "        avm.append(np.mean(nM))\n",
    "       \n",
    " \n",
    "plt.figure()\n",
    "plt.scatter(KT,avm)\n",
    "#plt.axis([0,1,-1,1])\n",
    "plt.grid()\n",
    "plt.show() \n",
    "\n"
   ]
  },
  {
   "cell_type": "markdown",
   "metadata": {},
   "source": [
    "### Uplotter"
   ]
  },
  {
   "cell_type": "code",
   "execution_count": 5,
   "metadata": {},
   "outputs": [],
   "source": [
    "def Uplotter(List):\n",
    "    \n",
    "        '''List = List to be plotted\n",
    "           dim = dimension of matrix\n",
    "           tics = x and y tics applied'''\n",
    "        dim = len(List[0])\n",
    "        tics = 1\n",
    "        tt = 1.0\n",
    "        s_map = [(float(p),float(q)) for p in range(dim) for q in range(dim)]\n",
    "        site = 0\n",
    "        for p in range(dim):\n",
    "             for q in range(dim):\n",
    "               if List[p][q] == -1 :\n",
    "                  rtgl = pylab.Rectangle(s_map[site], tt,tt, fc='white')\n",
    "                  pylab.gca().add_patch(rtgl)\n",
    "               if List[p][q] == 1 :\n",
    "                  rtgl = pylab.Rectangle(s_map[site], tt,tt, fc='red')\n",
    "                  pylab.gca().add_patch(rtgl)\n",
    "               site = site+1\n",
    "    \n",
    "    \n",
    "        Dx = float(dim) \n",
    "        Dy = float(dim)\n",
    "        pylab.axis('scaled')\n",
    "        pylab.axis([0.0,Dx,0.0,Dy])\n",
    "        #pylab.xticks([(tics)*k for k in range(int(dim/tics))])\n",
    "        #pylab.yticks([(tics)*k for k in range(int(dim/tics))])\n",
    "        pylab.show()\n",
    "        return   \n",
    "         "
   ]
  }
 ],
 "metadata": {
  "kernelspec": {
   "display_name": "Python 3",
   "language": "python",
   "name": "python3"
  }
 },
 "nbformat": 4,
 "nbformat_minor": 1
}
