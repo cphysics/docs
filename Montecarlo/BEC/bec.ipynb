{
 "cells": [
  {
   "cell_type": "markdown",
   "metadata": {},
   "source": [
    "# Bose Einstein Condensation"
   ]
  },
  {
   "cell_type": "markdown",
   "metadata": {},
   "source": [
    "-----------------"
   ]
  },
  {
   "cell_type": "markdown",
   "metadata": {},
   "source": [
    "* Permutation Sample"
   ]
  },
  {
   "cell_type": "code",
   "execution_count": 1,
   "metadata": {
    "collapsed": true
   },
   "outputs": [],
   "source": [
    "%matplotlib inline"
   ]
  },
  {
   "cell_type": "code",
   "execution_count": 2,
   "metadata": {},
   "outputs": [
    {
     "name": "stdout",
     "output_type": "stream",
     "text": [
      "[2, 1, 0]\n",
      "[0, 1, 2]\n",
      "\n",
      "[1, 2, 0]\n",
      "[0, 1, 2]\n",
      "\n",
      "[0, 2, 1]\n",
      "[0, 1, 2]\n",
      "\n",
      "[0, 1, 2]\n",
      "[0, 1, 2]\n",
      "\n",
      "[0, 1, 2]\n",
      "[0, 1, 2]\n",
      "\n",
      "[0, 1, 2]\n",
      "[0, 1, 2]\n",
      "\n",
      "[2, 1, 0]\n",
      "[0, 1, 2]\n",
      "\n",
      "[2, 0, 1]\n",
      "[0, 1, 2]\n",
      "\n",
      "[2, 1, 0]\n",
      "[0, 1, 2]\n",
      "\n",
      "[2, 1, 0]\n",
      "[0, 1, 2]\n",
      "\n",
      "(0, 1, 2) 3\n",
      "(1, 2, 0) 1\n",
      "(2, 1, 0) 4\n",
      "(0, 2, 1) 1\n",
      "(2, 0, 1) 1\n"
     ]
    }
   ],
   "source": [
    "import random\n",
    "\n",
    "N = 3\n",
    "statistics = {}\n",
    "L = range(N)\n",
    "nsteps = 10\n",
    "for step in range(nsteps):\n",
    "    i = random.randint(0, N - 1)\n",
    "    j = random.randint(0, N - 1)\n",
    "    L[i], L[j] = L[j], L[i]\n",
    "    if tuple(L) in statistics: \n",
    "        statistics[tuple(L)] += 1\n",
    "    else:\n",
    "        statistics[tuple(L)] = 1\n",
    "    print L\n",
    "    print range(N)\n",
    "    print\n",
    "\n",
    "for item in statistics:\n",
    "    print item, statistics[item]\n"
   ]
  },
  {
   "cell_type": "markdown",
   "metadata": {},
   "source": [
    "* Marcov Harmonic Boson"
   ]
  },
  {
   "cell_type": "code",
   "execution_count": 3,
   "metadata": {
    "collapsed": true
   },
   "outputs": [],
   "source": [
    "import random, math\n",
    " \n",
    "def levy_harmonic_path(k, beta):\n",
    "    xk = tuple([random.gauss(0.0, 1.0 / math.sqrt(2.0 *\n",
    "                math.tanh(k * beta / 2.0))) for d in range(3)])\n",
    "    x = [xk]\n",
    "    for j in range(1, k):\n",
    "        Upsilon_1 = (1.0 / math.tanh(beta) +\n",
    "                     1.0 / math.tanh((k - j) * beta))\n",
    "        Upsilon_2 = [x[j - 1][d] / math.sinh(beta) + xk[d] /\n",
    "                     math.sinh((k - j) * beta) for d in range(3)]\n",
    "        x_mean = [Upsilon_2[d] / Upsilon_1 for d in range(3)]\n",
    "        sigma = 1.0 / math.sqrt(Upsilon_1)\n",
    "        dummy = [random.gauss(x_mean[d], sigma) for d in range(3)]\n",
    "        x.append(tuple(dummy))\n",
    "    return x\n",
    " \n",
    "def rho_harm(x, xp, beta):\n",
    "    Upsilon_1 = sum((x[d] + xp[d]) ** 2 / 4.0 *\n",
    "                    math.tanh(beta / 2.0) for d in range(3))\n",
    "    Upsilon_2 = sum((x[d] - xp[d]) ** 2 / 4.0 /\n",
    "                    math.tanh(beta / 2.0) for d in range(3))\n",
    "    return math.exp(- Upsilon_1 - Upsilon_2)\n",
    "\n",
    "N = 128\n",
    "T_star = 0.9\n",
    "beta = 1.0 / (T_star * N ** (1.0 / 3.0))\n",
    "nsteps = 1000\n",
    "positions = {}\n",
    "for j in range(N):\n",
    "    a = levy_harmonic_path(1, beta)\n",
    "    positions[a[0]] = a[0]\n",
    "for step in range(nsteps):\n",
    "    boson_a = random.choice(positions.keys())\n",
    "    perm_cycle = []\n",
    "    while True:\n",
    "        perm_cycle.append(boson_a)\n",
    "        boson_b = positions.pop(boson_a)\n",
    "        if boson_b == perm_cycle[0]: break\n",
    "        else: boson_a = boson_b\n",
    "    k = len(perm_cycle)\n",
    "    perm_cycle = levy_harmonic_path(k, beta)\n",
    "    positions[perm_cycle[-1]] = perm_cycle[0]\n",
    "    for j in range(len(perm_cycle) - 1):\n",
    "        positions[perm_cycle[j]] = perm_cycle[j + 1]\n",
    "    a_1 = random.choice(positions.keys())\n",
    "    b_1 = positions.pop(a_1)\n",
    "    a_2 = random.choice(positions.keys())\n",
    "    b_2 = positions.pop(a_2)\n",
    "    weight_new = rho_harm(a_1, b_2, beta) * rho_harm(a_2, b_1, beta)\n",
    "    weight_old = rho_harm(a_1, b_1, beta) * rho_harm(a_2, b_2, beta)\n",
    "    if random.uniform(0.0, 1.0) < weight_new / weight_old:\n",
    "        positions[a_1] = b_2\n",
    "        positions[a_2] = b_1\n",
    "    else:\n",
    "        positions[a_1] = b_1\n",
    "        positions[a_2] = b_2\n"
   ]
  },
  {
   "cell_type": "markdown",
   "metadata": {},
   "source": [
    "* Marcov Harmonic Boson Movie"
   ]
  },
  {
   "cell_type": "code",
   "execution_count": 4,
   "metadata": {},
   "outputs": [
    {
     "data": {
      "image/png": "[encoded data removed]",
      "text/plain": [
       "<matplotlib.figure.Figure at 0x105748810>"
      ]
     },
     "metadata": {},
     "output_type": "display_data"
    }
   ],
   "source": [
    "import random, math, pylab, mpl_toolkits.mplot3d\n",
    " \n",
    "def levy_harmonic_path(k, beta):\n",
    "    xk = tuple([random.gauss(0.0, 1.0 / math.sqrt(2.0 *\n",
    "                math.tanh(k * beta / 2.0))) for d in range(3)])\n",
    "    x = [xk]\n",
    "    for j in range(1, k):\n",
    "        Upsilon_1 = (1.0 / math.tanh(beta) +\n",
    "                     1.0 / math.tanh((k - j) * beta))\n",
    "        Upsilon_2 = [x[j - 1][d] / math.sinh(beta) + xk[d] /\n",
    "                     math.sinh((k - j) * beta) for d in range(3)]\n",
    "        x_mean = [Upsilon_2[d] / Upsilon_1 for d in range(3)]\n",
    "        sigma = 1.0 / math.sqrt(Upsilon_1)\n",
    "        dummy = [random.gauss(x_mean[d], sigma) for d in range(3)]\n",
    "        x.append(tuple(dummy))\n",
    "    return x\n",
    " \n",
    "def rho_harm(x, xp, beta):\n",
    "    Upsilon_1 = sum((x[d] + xp[d]) ** 2 / 4.0 *\n",
    "                    math.tanh(beta / 2.0) for d in range(3))\n",
    "    Upsilon_2 = sum((x[d] - xp[d]) ** 2 / 4.0 /\n",
    "                    math.tanh(beta / 2.0) for d in range(3))\n",
    "    return math.exp(- Upsilon_1 - Upsilon_2)\n",
    "\n",
    "N = 256\n",
    "T_star = 0.6\n",
    "beta = 1.0 / (T_star * N ** (1.0 / 3.0))\n",
    "nsteps = 1000\n",
    "positions = {}\n",
    "for j in range(N):\n",
    "    a = levy_harmonic_path(1, beta)\n",
    "    positions[a[0]] = a[0]\n",
    "for step in range(nsteps):\n",
    "    boson_a = random.choice(positions.keys())\n",
    "    perm_cycle = []\n",
    "    while True:\n",
    "        perm_cycle.append(boson_a)\n",
    "        boson_b = positions.pop(boson_a)\n",
    "        if boson_b == perm_cycle[0]: break\n",
    "        else: boson_a = boson_b\n",
    "    k = len(perm_cycle)\n",
    "    perm_cycle = levy_harmonic_path(k, beta)\n",
    "    positions[perm_cycle[-1]] = perm_cycle[0]\n",
    "    for j in range(len(perm_cycle) - 1):\n",
    "        positions[perm_cycle[j]] = perm_cycle[j + 1]\n",
    "    a_1 = random.choice(positions.keys())\n",
    "    b_1 = positions.pop(a_1)\n",
    "    a_2 = random.choice(positions.keys())\n",
    "    b_2 = positions.pop(a_2)\n",
    "    weight_new = rho_harm(a_1, b_2, beta) * rho_harm(a_2, b_1, beta)\n",
    "    weight_old = rho_harm(a_1, b_1, beta) * rho_harm(a_2, b_2, beta)\n",
    "    if random.uniform(0.0, 1.0) < weight_new / weight_old:\n",
    "        positions[a_1] = b_2\n",
    "        positions[a_2] = b_1\n",
    "    else:\n",
    "        positions[a_1] = b_1\n",
    "        positions[a_2] = b_2\n",
    "\n",
    "fig = pylab.figure()\n",
    "ax = mpl_toolkits.mplot3d.axes3d.Axes3D(fig)\n",
    "ax.set_aspect('equal')\n",
    "list_colors = ['b', 'g', 'r', 'c', 'm', 'y', 'k']\n",
    "n_colors = len(list_colors)\n",
    "dict_colors = {}\n",
    "i_color = 0\n",
    "# find and plot permutation cycles:\n",
    "while positions:\n",
    "    x, y, z = [], [], []\n",
    "    starting_boson = positions.keys()[0]\n",
    "    boson_old = starting_boson\n",
    "    while True:\n",
    "        x.append(boson_old[0])\n",
    "        y.append(boson_old[1])\n",
    "        z.append(boson_old[2])\n",
    "        boson_new = positions.pop(boson_old)\n",
    "        if boson_new == starting_boson: break\n",
    "        else: boson_old = boson_new\n",
    "    len_cycle = len(x)\n",
    "    if len_cycle > 2:\n",
    "        x.append(x[0])\n",
    "        y.append(y[0])\n",
    "        z.append(z[0])\n",
    "    if len_cycle in dict_colors:\n",
    "        color = dict_colors[len_cycle]\n",
    "        ax.plot(x, y, z, color + '+-', lw=0.75)\n",
    "    else:\n",
    "        color = list_colors[i_color]\n",
    "        i_color = (i_color + 1) % n_colors\n",
    "        dict_colors[len_cycle] = color\n",
    "        ax.plot(x, y, z, color + '+-', label='k=%i' % len_cycle, lw=0.75)\n",
    "# finalize plot\n",
    "pylab.title('$N=%i$, $T^*=%s$' % (N, T_star))\n",
    "pylab.legend()\n",
    "ax.set_xlabel('$x$', fontsize=16)\n",
    "ax.set_ylabel('$y$', fontsize=16)\n",
    "ax.set_zlabel('$z$', fontsize=16)\n",
    "ax.set_xlim3d([-8, 8])\n",
    "ax.set_ylim3d([-8, 8])\n",
    "ax.set_zlim3d([-8, 8])\n",
    "#pylab.savefig('snapshot_bosons_3d_N%04i_Tstar%04.2f.png' % (N, T_star))\n",
    "pylab.show()\n"
   ]
  },
  {
   "cell_type": "markdown",
   "metadata": {},
   "source": [
    "----------------"
   ]
  },
  {
   "cell_type": "markdown",
   "metadata": {},
   "source": [
    "# TUTORIAL"
   ]
  },
  {
   "cell_type": "markdown",
   "metadata": {},
   "source": [
    "* Permutation Sample Cycle"
   ]
  },
  {
   "cell_type": "code",
   "execution_count": 6,
   "metadata": {},
   "outputs": [
    {
     "name": "stdout",
     "output_type": "stream",
     "text": [
      "1 18\n",
      "2 1\n",
      "3 0\n",
      "4 0\n",
      "5 0\n",
      "6 0\n",
      "7 0\n",
      "8 0\n",
      "9 0\n",
      "10 0\n",
      "11 0\n",
      "12 0\n",
      "13 0\n",
      "14 0\n",
      "15 0\n",
      "16 0\n",
      "17 0\n",
      "18 0\n",
      "19 0\n",
      "20 0\n"
     ]
    }
   ],
   "source": [
    "import random\n",
    "\n",
    "N = 20\n",
    "stats = [0] * (N + 1)\n",
    "L = range(N)\n",
    "nsteps = 100\n",
    "for step in range(nsteps):\n",
    "    i = random.randint(0, N - 1)\n",
    "    j = random.randint(0, N - 1)\n",
    "    L[i], L[j] = L[j], L[i]\n",
    "    if step % 100 == 0: \n",
    "        cycle_dict = {}\n",
    "        for k in range(N):\n",
    "            cycle_dict[k] = L[k]\n",
    "        while cycle_dict != {}:\n",
    "            starting_element = cycle_dict.keys()[0]\n",
    "            cycle_length = 0\n",
    "            old_element = starting_element\n",
    "            while True:\n",
    "                cycle_length += 1\n",
    "                new_element = cycle_dict.pop(old_element)\n",
    "                if new_element == starting_element: break\n",
    "                else: old_element = new_element\n",
    "            stats[cycle_length] += 1\n",
    "for k in range(1, N + 1):\n",
    "    print k, stats[k] \n"
   ]
  },
  {
   "cell_type": "markdown",
   "metadata": {},
   "source": [
    "* Direct Harmonic Boson"
   ]
  },
  {
   "cell_type": "code",
   "execution_count": 7,
   "metadata": {
    "collapsed": true
   },
   "outputs": [],
   "source": [
    "import math, random\n",
    "\n",
    "def z(k, beta):\n",
    "    return (1.0 - math.exp(- k * beta)) ** (-3)\n",
    "\n",
    "def canonic_recursion(N, beta):\n",
    "    Z = [1.0]\n",
    "    for M in range(1, N + 1):\n",
    "        Z.append(sum(Z[k] * z(M - k, beta) \\\n",
    "                     for k in range(M)) / M)\n",
    "    return Z\n",
    "\n",
    "def make_pi_list(Z, M):\n",
    "   pi_list = [0.0] + [z(k, beta) * Z[M - k] / Z[M] / M \\\n",
    "                              for k  in range(1, M + 1)]\n",
    "   pi_cumulative = [0.0]\n",
    "   for k in range(1, M + 1):\n",
    "      pi_cumulative.append(pi_cumulative[k - 1] + pi_list[k])\n",
    "   return pi_cumulative\n",
    "\n",
    "def naive_tower_sample(pi_cumulative):\n",
    "    eta = random.uniform(0.0, 1.0)\n",
    "    for k in range(len(pi_cumulative)):\n",
    "        if eta < pi_cumulative[k]: break\n",
    "    return k\n",
    "\n",
    "def levy_harmonic_path(dtau, N): \n",
    "   beta = N * dtau\n",
    "   x_N = random.gauss(0.0, 1.0 / math.sqrt(2.0 * math.tanh(beta / 2.0)))\n",
    "   x = [x_N]\n",
    "   for k in range(1, N):\n",
    "      dtau_prime = (N - k) * dtau\n",
    "      Upsilon_1 = 1.0 / math.tanh(dtau) + \\\n",
    "                  1.0 / math.tanh(dtau_prime)\n",
    "      Upsilon_2 = x[k - 1] / math.sinh(dtau) + \\\n",
    "                  x_N / math.sinh(dtau_prime)\n",
    "      x_mean = Upsilon_2 / Upsilon_1\n",
    "      sigma = 1.0 / math.sqrt(Upsilon_1)\n",
    "      x.append(random.gauss(x_mean, sigma))\n",
    "   return x\n",
    "\n",
    "### main program starts here ###\n",
    "N = 8\n",
    "T_star = 0.1\n",
    "beta = 1.0 / N ** (1.0 / 3.0) / T_star\n",
    "n_steps = 1000\n",
    "Z = canonic_recursion(N, beta)\n",
    "for step in range(n_steps):\n",
    "    N_tmp = N\n",
    "    x_config = []\n",
    "    y_config = []\n",
    "    z_config = []\n",
    "    while N_tmp > 0:\n",
    "       pi_sum = make_pi_list(Z, N_tmp)\n",
    "       k = naive_tower_sample(pi_sum)\n",
    "       x_config += levy_harmonic_path(beta, k)\n",
    "       y_config += levy_harmonic_path(beta, k)\n",
    "       z_config += levy_harmonic_path(beta, k)\n",
    "       N_tmp -= k\n"
   ]
  },
  {
   "cell_type": "markdown",
   "metadata": {},
   "source": [
    "* Canonic Harmonic Recursion"
   ]
  },
  {
   "cell_type": "code",
   "execution_count": 9,
   "metadata": {},
   "outputs": [
    {
     "name": "stdout",
     "output_type": "stream",
     "text": [
      "100 27.328822346\n"
     ]
    }
   ],
   "source": [
    "import math\n",
    "\n",
    "def z(k, beta):\n",
    "    return 1.0 / (1.0 - math.exp(- k * beta)) ** 3\n",
    "\n",
    "def canonic_recursion(N, beta):\n",
    "    Z = [1.0]\n",
    "    for M in range(1, N + 1):\n",
    "        Z.append(sum(Z[k] * z(M - k, beta) \\\n",
    "                     for k in range(M)) / M)\n",
    "    return Z\n",
    "\n",
    "N = 100\n",
    "beta = 1.0\n",
    "Z = canonic_recursion(N, beta)\n",
    "print N, Z[-1]"
   ]
  },
  {
   "cell_type": "markdown",
   "metadata": {},
   "source": [
    "* Canonic Recurrsion Movie"
   ]
  },
  {
   "cell_type": "code",
   "execution_count": 10,
   "metadata": {},
   "outputs": [
    {
     "data": {
      "image/png": "[encoded data removed]",
      "text/plain": [
       "<matplotlib.figure.Figure at 0x1056c1750>"
      ]
     },
     "metadata": {},
     "output_type": "display_data"
    }
   ],
   "source": [
    "import math, pylab\n",
    "\n",
    "def z(k, beta):\n",
    "    return 1.0 / (1.0 - math.exp(- k * beta)) ** 3\n",
    "\n",
    "def canonic_recursion(N, beta):\n",
    "    Z = [1.0]\n",
    "    for M in range(1, N + 1):\n",
    "        Z.append(sum(Z[k] * z(M - k, beta) \\\n",
    "                     for k in range(M)) / M)\n",
    "    return Z\n",
    "\n",
    "N = 256\n",
    "T_star = 0.6\n",
    "beta = 1.0 / N ** (1.0 / 3.0) / T_star\n",
    "Z = canonic_recursion(N, beta)\n",
    "pi_k = [(z(k, beta) * Z[N - k] / Z[-1]) / float(N) for k in range(1, N + 1)]\n",
    "# graphics output\n",
    "pylab.plot(range(1, N + 1), pi_k, 'b-', lw=2.5)\n",
    "pylab.ylim(0.0, 0.01)\n",
    "pylab.xlabel('cycle length $k$', fontsize=16)\n",
    "pylab.ylabel('cycle probability $\\pi_k$', fontsize=16)\n",
    "pylab.title('Cycle length distribution ($N=%i$, $T^*=%s$)' % (N, T_star), fontsize=16)\n",
    "#pylab.savefig('plot-prob_cycle_length.png')\n",
    "pylab.show()"
   ]
  },
  {
   "cell_type": "code",
   "execution_count": null,
   "metadata": {
    "collapsed": true
   },
   "outputs": [],
   "source": []
  }
 ],
 "metadata": {
  "kernelspec": {
   "display_name": "Python 3",
   "language": "python",
   "name": "python3"
  },
  "language_info": {
   "codemirror_mode": {
    "name": "ipython",
    "version": 2
   },
   "file_extension": ".py",
   "mimetype": "text/x-python",
   "name": "python",
   "nbconvert_exporter": "python",
   "pygments_lexer": "ipython2",
   "version": "2.7.11"
  }
 },
 "nbformat": 4,
 "nbformat_minor": 1
}
