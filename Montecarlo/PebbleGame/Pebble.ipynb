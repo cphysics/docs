{
 "cells": [
  {
   "cell_type": "markdown",
   "metadata": {},
   "source": [
    "# Introduction to Montecarlo Method"
   ]
  },
  {
   "cell_type": "markdown",
   "metadata": {},
   "source": [
    "------------------------"
   ]
  },
  {
   "cell_type": "code",
   "execution_count": null,
   "metadata": {},
   "outputs": [],
   "source": [
    "import random\n",
    "import matplotlib.pyplot as plt\n",
    "import numpy as np\n",
    "import pylab\n",
    "import seaborn as sns\n",
    "sns.set()\n",
    "%matplotlib inline"
   ]
  },
  {
   "cell_type": "markdown",
   "metadata": {},
   "source": [
    "### Pebble Game"
   ]
  },
  {
   "cell_type": "markdown",
   "metadata": {
    "collapsed": true
   },
   "source": [
    "- Lets Construct Pebble Story"
   ]
  },
  {
   "cell_type": "code",
   "execution_count": null,
   "metadata": {},
   "outputs": [],
   "source": [
    "neighbor =  [[1, 3, 0, 0], [2, 4, 0, 1], [2, 5, 1, 2],\n",
    "             [4, 6, 3, 0], [5, 7, 3, 1], [5, 8, 4, 2],\n",
    "             [7, 6, 6, 3], [8, 7, 6, 4], [8, 8, 7, 5]]\n",
    "t_max = 4\n",
    "site = 8\n",
    "t = 0\n",
    "print (site)\n",
    "while t < t_max:\n",
    "    t += 1\n",
    "    site = neighbor[site][random.randint(0, 3)]\n",
    "    print(site)"
   ]
  },
  {
   "cell_type": "markdown",
   "metadata": {},
   "source": [
    "Histogram with weight"
   ]
  },
  {
   "cell_type": "code",
   "execution_count": 13,
   "metadata": {},
   "outputs": [],
   "source": [
    "neighbor_o =  [[1, 3, 0, 0], [2, 4, 0, 1], [2, 5, 1, 2],\n",
    "             [4, 6, 3, 0], [5, 7, 3, 1], [5, 8, 4, 2],\n",
    "             [7, 6, 6, 3], [8, 7, 6, 4], [8, 8, 7, 5]]"
   ]
  },
  {
   "cell_type": "code",
   "execution_count": 16,
   "metadata": {},
   "outputs": [
    {
     "name": "stdout",
     "output_type": "stream",
     "text": [
      "comparison:  weight, histogram\n",
      "site:  0  weight:  3.0  histo:  2.674\n",
      "site:  1  weight:  0.5  histo:  0.518\n",
      "site:  2  weight:  1.0  histo:  1.197\n",
      "site:  3  weight:  0.5  histo:  0.452\n",
      "site:  4  weight:  1.0  histo:  0.981\n",
      "site:  5  weight:  0.5  histo:  0.531\n",
      "site:  6  weight:  2.0  histo:  1.977\n",
      "site:  7  weight:  0.5  histo:  0.533\n",
      "site:  8  weight:  1.0  histo:  1.137\n"
     ]
    }
   ],
   "source": [
    "histo = [0, 0, 0, 0, 0, 0, 0, 0, 0]\n",
    "weight = [3.0, 0.5, 1.0, 0.5, 1.0, 0.5, 2.0, 0.5, 1.0]\n",
    "pos = 8\n",
    "n_iter = 10000\n",
    "for iter in range(n_iter):\n",
    "    new_pos = neighbor_o[pos][random.randint(0, 3)]\n",
    "    if random.random() < weight[new_pos] / weight[pos]:\n",
    "        pos = new_pos\n",
    "    histo[pos] += 1 \n",
    "\n",
    "norm = sum(weight)\n",
    "print('comparison:  weight, histogram')\n",
    "for k in range(9): \n",
    "    print('site: ', k,' weight: ', weight[k], ' histo: ', norm * histo[k] / float(n_iter))\n"
   ]
  },
  {
   "cell_type": "markdown",
   "metadata": {},
   "source": [
    "#### Pebble Multirun"
   ]
  },
  {
   "cell_type": "code",
   "execution_count": 17,
   "metadata": {},
   "outputs": [],
   "source": [
    "neighbour = {1 : [2, 4, 1, 1], 2 : [3, 5, 1, 2], 3 : [3, 6, 2, 3],\n",
    "            4 : [5, 7, 4, 1], 5 : [6, 8, 4, 2], 6 : [6, 9, 5, 3],\n",
    "            7 : [8, 7, 7, 4], 8 : [9, 8, 7, 5], 9 : [9, 9, 8, 6]}\n"
   ]
  },
  {
   "cell_type": "code",
   "execution_count": 19,
   "metadata": {},
   "outputs": [
    {
     "name": "stdout",
     "output_type": "stream",
     "text": [
      "[[0.   0.   2.25]\n",
      " [0.   0.   0.  ]\n",
      " [0.   0.   0.  ]]\n",
      "[[0. 0. 1.]\n",
      " [0. 0. 0.]\n",
      " [0. 0. 0.]]\n"
     ]
    },
    {
     "data": {
      "image/png": "[encoded data removed]",
      "text/plain": [
       "<Figure size 432x288 with 2 Axes>"
      ]
     },
     "metadata": {
      "needs_background": "light"
     },
     "output_type": "display_data"
    }
   ],
   "source": [
    "xvec = {1:3, 2:2, 3:1, 4:3, 5:2, 6:1, 7:3, 8:2, 9:1} \n",
    "yvec = {1:1, 2:1, 3:1, 4:2, 5:2, 6:2, 7:3, 8:3, 9:3} \n",
    "\n",
    "\n",
    "list_vec = []\n",
    "\n",
    "run = 0\n",
    "if run < 10: \n",
    "    run_str= '0' + str(run)\n",
    "else: \n",
    "    run_str = str(run)\n",
    "    \n",
    "    \n",
    "for n_runs in range(100000): \n",
    "    pos = 9\n",
    "    for iter in range(run):\n",
    "        pos = neighbor[pos][ random.randint(0, 3)]\n",
    "    list_vec.append(pos)\n",
    "\n",
    "x = [xvec[k] for k in list_vec]\n",
    "y = [yvec[k] for k in list_vec]\n",
    "\n",
    "plt.xticks([])\n",
    "plt.yticks([])\n",
    "\n",
    "'''create a Histogram'''\n",
    "H, xedges, yedges = np.histogram2d(x, y, bins=(3, 3), \n",
    "           range=[[1,3],[1,3]], normed=True)\n",
    "print (H)\n",
    "H /= np.sum(H)\n",
    "print (H)\n",
    "\n",
    "'''plot Histogram'''\n",
    "\n",
    "extent = [yedges[0], yedges[-1], xedges[-1], xedges[0]]\n",
    "plt.imshow(H, extent=extent, interpolation='nearest', vmin=0.0, vmax=1.0)\n",
    "plt.set_cmap('hot')\n",
    "plt.colorbar()\n",
    "plt.title('t = '+str(run),fontsize=22)\n",
    "plt.savefig('3x3_pebble_run_'+run_str+'.png')\n",
    "plt.show()"
   ]
  },
  {
   "cell_type": "markdown",
   "metadata": {},
   "source": [
    "- Multiple Histogram"
   ]
  },
  {
   "cell_type": "code",
   "execution_count": 20,
   "metadata": {},
   "outputs": [
    {
     "ename": "IndexError",
     "evalue": "list index out of range",
     "output_type": "error",
     "traceback": [
      "\u001b[0;31m---------------------------------------------------------------------------\u001b[0m",
      "\u001b[0;31mIndexError\u001b[0m                                Traceback (most recent call last)",
      "\u001b[0;32m<ipython-input-20-8bb9661f81ff>\u001b[0m in \u001b[0;36m<module>\u001b[0;34m\u001b[0m\n\u001b[1;32m     11\u001b[0m         \u001b[0mpos\u001b[0m \u001b[0;34m=\u001b[0m \u001b[0;36m9\u001b[0m\u001b[0;34m\u001b[0m\u001b[0;34m\u001b[0m\u001b[0m\n\u001b[1;32m     12\u001b[0m         \u001b[0;32mfor\u001b[0m \u001b[0miter\u001b[0m \u001b[0;32min\u001b[0m \u001b[0mrange\u001b[0m\u001b[0;34m(\u001b[0m\u001b[0mrun\u001b[0m\u001b[0;34m)\u001b[0m\u001b[0;34m:\u001b[0m\u001b[0;34m\u001b[0m\u001b[0;34m\u001b[0m\u001b[0m\n\u001b[0;32m---> 13\u001b[0;31m             \u001b[0mpos\u001b[0m \u001b[0;34m=\u001b[0m \u001b[0mneighbor\u001b[0m\u001b[0;34m[\u001b[0m\u001b[0mpos\u001b[0m\u001b[0;34m]\u001b[0m\u001b[0;34m[\u001b[0m \u001b[0mrandom\u001b[0m\u001b[0;34m.\u001b[0m\u001b[0mrandint\u001b[0m\u001b[0;34m(\u001b[0m\u001b[0;36m0\u001b[0m\u001b[0;34m,\u001b[0m \u001b[0;36m3\u001b[0m\u001b[0;34m)\u001b[0m\u001b[0;34m]\u001b[0m\u001b[0;34m\u001b[0m\u001b[0;34m\u001b[0m\u001b[0m\n\u001b[0m\u001b[1;32m     14\u001b[0m         \u001b[0mlist_vec\u001b[0m\u001b[0;34m.\u001b[0m\u001b[0mappend\u001b[0m\u001b[0;34m(\u001b[0m\u001b[0mpos\u001b[0m\u001b[0;34m)\u001b[0m\u001b[0;34m\u001b[0m\u001b[0;34m\u001b[0m\u001b[0m\n\u001b[1;32m     15\u001b[0m \u001b[0;34m\u001b[0m\u001b[0m\n",
      "\u001b[0;31mIndexError\u001b[0m: list index out of range"
     ]
    },
    {
     "data": {
      "image/png": "[encoded data removed]",
      "text/plain": [
       "<Figure size 432x288 with 2 Axes>"
      ]
     },
     "metadata": {
      "needs_background": "light"
     },
     "output_type": "display_data"
    }
   ],
   "source": [
    "\n",
    "xvec = {1:3, 2:2, 3:1, 4:3, 5:2, 6:1, 7:3, 8:2, 9:1} \n",
    "yvec = {1:1, 2:1, 3:1, 4:2, 5:2, 6:2, 7:3, 8:3, 9:3} \n",
    "\n",
    "\n",
    "N_runs = 4\n",
    "for run in range(N_runs):\n",
    "    list_vec = []\n",
    "    if run < 10:  run_str= '0'+str(run)\n",
    "    else: run_str = str(run)\n",
    "    for n_runs in range(100000): \n",
    "        pos = 9\n",
    "        for iter in range(run):\n",
    "            pos = neighbor[pos][ random.randint(0, 3)]\n",
    "        list_vec.append(pos)\n",
    "\n",
    "    x = [xvec[k] for k in list_vec]\n",
    "    y = [yvec[k] for k in list_vec]\n",
    "    \n",
    "    plt.subplot(2,2,run+1)\n",
    "    plt.xticks([])\n",
    "    plt.yticks([])\n",
    "    H, xedges, yedges = np.histogram2d(x, y, bins=(3, 3), \n",
    "               range=[[1,3],[1,3]], normed=True)\n",
    "    #print H\n",
    "    H /= np.sum(H)\n",
    "    # print H\n",
    "    extent = [yedges[0], yedges[-1], xedges[-1], xedges[0]]\n",
    "    histo = plt.imshow(H, extent=extent, interpolation='nearest', vmin=0, vmax=1.00)\n",
    "    histo.set_cmap('hot')\n",
    "    plt.colorbar()\n",
    "    plt.title('t = '+str(run),fontsize=10)\n",
    "    #plt.savefig('marcob/3x3_pebble_run_'+run_str+'.png')\n",
    "    #plt.close()\n",
    "plt.show()"
   ]
  },
  {
   "cell_type": "markdown",
   "metadata": {},
   "source": [
    "* Pebble movie"
   ]
  },
  {
   "cell_type": "code",
   "execution_count": 61,
   "metadata": {},
   "outputs": [
    {
     "data": {
      "image/png": "[encoded data removed]",
      "text/plain": [
       "<matplotlib.figure.Figure at 0x10d597a50>"
      ]
     },
     "metadata": {},
     "output_type": "display_data"
    }
   ],
   "source": [
    "def grider():\n",
    "    pylab.plot([0.5, 3.5], [1.5, 1.5], 'b')\n",
    "    pylab.plot([0.5, 3.5], [2.5, 2.5], 'b')\n",
    "    pylab.plot([1.5, 1.5], [0.5, 3.5], 'b')\n",
    "    pylab.plot([2.5, 2.5], [0.5, 3.5], 'b')\n",
    "    return\n",
    "grider()"
   ]
  },
  {
   "cell_type": "code",
   "execution_count": 69,
   "metadata": {},
   "outputs": [
    {
     "data": {
      "image/png": "[encoded data removed]",
      "text/plain": [
       "<matplotlib.figure.Figure at 0x10a12ccd0>"
      ]
     },
     "metadata": {},
     "output_type": "display_data"
    }
   ],
   "source": [
    "\n",
    "sigma = 0.4  # sigma and s_map are needed for the graphical output\n",
    "s_map = [(1.0, 1.0), (2.0, 1.0), (3.0, 1.0), \n",
    "         (1.0, 2.0), (2.0, 2.0), (3.0, 2.0), \n",
    "         (1.0, 3.0), (2.0, 3.0), (3.0, 3.0)] \n",
    "neighbor_o =  [[1, 3, 0, 0], [2, 4, 0, 1], [2, 5, 1, 2],\n",
    "             [4, 6, 3, 0], [5, 7, 3, 1], [5, 8, 4, 2],\n",
    "             [7, 6, 6, 3], [8, 7, 6, 4], [8, 8, 7, 5]]\n",
    "site = 8\n",
    "N_runs = 10\n",
    "for run in range(N_runs):\n",
    "    if run < 10: number_string = '0'+str(run)\n",
    "    else: number_string = str(run)\n",
    "    # Begin of graphical output\n",
    "    cir = pylab.Circle(s_map[site], radius=sigma, fc='r')\n",
    "    pylab.subplot(5,2,run+1)\n",
    "    pylab.gca().add_patch(cir)\n",
    "    grider()\n",
    "    pylab.title('t = '+ number_string)\n",
    "    pylab.axis('scaled')\n",
    "    pylab.axis([0.5, 3.5, 0.5, 3.5])\n",
    "    pylab.xticks([])\n",
    "    pylab.yticks([])\n",
    "    #pylab.savefig('peeble_movie/pebble_basic_movie_'+number_string+'.png', transparent=False)\n",
    "    #pylab.show()    \n",
    "    #pylab.clf()\n",
    "    # End of graphical output\n",
    "    site = neighbor_o[site][ random.randint(0, 3)]\n",
    "pylab.show()   "
   ]
  },
  {
   "cell_type": "markdown",
   "metadata": {},
   "source": [
    "### Peeble-Dual"
   ]
  },
  {
   "cell_type": "code",
   "execution_count": 73,
   "metadata": {},
   "outputs": [
    {
     "data": {
      "image/png": "[encoded data removed]",
      "text/plain": [
       "<matplotlib.figure.Figure at 0x10899efd0>"
      ]
     },
     "metadata": {},
     "output_type": "display_data"
    }
   ],
   "source": [
    "def double_grider():\n",
    "        pylab.axis([0.5, 6.5, -2.5, 3.5])\n",
    "        pylab.plot([0.5, 3.5], [0.5, 0.5], 'r')\n",
    "        pylab.plot([0.5, 3.5], [1.5, 1.5], 'r')\n",
    "        pylab.plot([0.5, 3.5], [2.5, 2.5], 'r')\n",
    "        pylab.plot([1.5, 1.5], [0.5, 3.5], 'r')\n",
    "        pylab.plot([2.5, 2.5], [0.5, 3.5], 'r')\n",
    "        pylab.plot([3.5, 3.5], [0.5, 3.5], 'r')\n",
    "        pylab.plot([0.5+offset, 3.5+offset], [1.5-offset, 1.5-offset], 'b')\n",
    "        pylab.plot([0.5+offset, 3.5+offset], [2.5-offset, 2.5-offset], 'b')\n",
    "        pylab.plot([0.5+offset, 3.5+offset], [3.5-offset, 3.5-offset], 'b')\n",
    "        pylab.plot([0.5+offset, 0.5+offset], [0.5-offset, 3.5-offset], 'b')\n",
    "        pylab.plot([1.5+offset, 1.5+offset], [0.5-offset, 3.5-offset], 'b')\n",
    "        pylab.plot([2.5+offset, 2.5+offset], [0.5-offset, 3.5-offset], 'b')\n",
    "        return\n",
    "double_grider()"
   ]
  },
  {
   "cell_type": "markdown",
   "metadata": {},
   "source": [
    "* Pebble transfer strategy"
   ]
  },
  {
   "cell_type": "code",
   "execution_count": 78,
   "metadata": {},
   "outputs": [
    {
     "name": "stdout",
     "output_type": "stream",
     "text": [
      "0    ['0.11111', '0.11111', '0.11111', '0.11111', '0.11111', '0.11111', '0.11111', '0.11111', '0.88889']\n",
      "1    ['0.11111', '0.11111', '0.11111', '0.11111', '0.11111', '0.13889', '0.11111', '0.13889', '0.38889']\n",
      "2    ['0.11111', '0.11111', '0.04861', '0.11111', '0.01389', '0.07639', '0.04861', '0.07639', '0.26389']\n",
      "3    ['0.11111', '0.06424', '0.03299', '0.06424', '0.01736', '0.07639', '0.03299', '0.07639', '0.17014']\n",
      "4    ['0.08767', '0.05642', '0.01345', '0.05642', '0.00608', '0.04905', '0.01345', '0.04905', '0.12326']\n",
      "5    ['0.07205', '0.03787', '0.00857', '0.03787', '0.00369', '0.04123', '0.00857', '0.04123', '0.08615']\n",
      "6    ['0.05496', '0.03054', '0.00345', '0.03054', '0.00168', '0.02878', '0.00345', '0.02878', '0.06369']\n",
      "7    ['0.04275', '0.02182', '0.00216', '0.02182', '0.00088', '0.02268', '0.00216', '0.02268', '0.04624']\n",
      "8    ['0.03228', '0.01690', '0.00087', '0.01690', '0.00043', '0.01647', '0.00087', '0.01647', '0.03446']\n",
      "9    ['0.02459', '0.01241', '0.00054', '0.01241', '0.00022', '0.01262', '0.00054', '0.01262', '0.02546']\n"
     ]
    }
   ],
   "source": [
    "transfer = np.zeros((9, 9))\n",
    "for k in range(9):\n",
    "    for neigh in range(4): transfer[neighbor_o[k][neigh], k] += 0.25\n",
    "position = np.zeros(9)\n",
    "position[8] = 1.0\n",
    "for t in range(10):\n",
    "    print t,'  ',[\"%0.5f\" % abs(i- 1.0 / 9.0) for i in position]\n",
    "    position = np.dot(transfer, position)\n"
   ]
  },
  {
   "cell_type": "markdown",
   "metadata": {},
   "source": [
    "* Pebble transfer Eigen"
   ]
  },
  {
   "cell_type": "code",
   "execution_count": 80,
   "metadata": {},
   "outputs": [
    {
     "name": "stdout",
     "output_type": "stream",
     "text": [
      "[ -5.02430015e-01  -5.00000000e-01   1.00000000e+00   9.92451031e-01\n",
      "   7.25649298e-01   5.00000000e-01   4.79023434e-01  -1.50050555e-02\n",
      "   2.40311308e-01   7.50000000e-01   7.50000000e-01   1.52303605e-17\n",
      "   7.50000000e-01  -1.04083409e-16   1.07326675e-17   2.50000000e-01\n",
      "   2.50000000e-01   2.50000000e-01]\n"
     ]
    }
   ],
   "source": [
    "import numpy\n",
    " \n",
    "neighbor =  [[1, 3, 0, 0], [2, 4, 0, 1], [2, 5, 1, 2],\n",
    "             [4, 6, 3, 0], [5, 7, 3, 1], [5, 8, 4, 2],\n",
    "             [7, 6, 6, 3], [8, 7, 6, 4], [8, 8, 7, 5]]\n",
    "transfer = numpy.zeros((18, 18))\n",
    "for k in range(9):\n",
    "    for neigh in range(4): \n",
    "        transfer[neighbor[k][neigh], k] += 0.25     # red pebble game\n",
    "        transfer[neighbor[k][neigh]+9, k+9] += 0.25 # blue pebble game   \n",
    "# small transition epsilon between red 2 and blue 6\n",
    "epsilon = 0.04\n",
    "transfer[6+9,2] = transfer[2,6+9] = epsilon\n",
    "transfer[2,2] -= epsilon\n",
    "transfer[6+9,6+9] -= epsilon\n",
    "eigenvalues, eigenvectors = numpy.linalg.eig(transfer)\n",
    "print eigenvalues\n",
    " \n",
    "# you may print the eigenvectors by uncommenting the following four lines\n",
    "#for iter in range(18):\n",
    "#    print eigenvalues[iter]\n",
    "#    for i in range(18):\n",
    "#        print eigenvectors[i][iter]\n"
   ]
  },
  {
   "cell_type": "code",
   "execution_count": 75,
   "metadata": {},
   "outputs": [
    {
     "data": {
      "text/plain": [
       "<matplotlib.figure.Figure at 0x10aa4cd50>"
      ]
     },
     "metadata": {},
     "output_type": "display_data"
    },
    {
     "data": {
      "image/png": "[encoded data removed]",
      "text/plain": [
       "<matplotlib.figure.Figure at 0x10d5cf890>"
      ]
     },
     "metadata": {},
     "output_type": "display_data"
    },
    {
     "data": {
      "image/png": "[encoded data removed]",
      "text/plain": [
       "<matplotlib.figure.Figure at 0x110c52090>"
      ]
     },
     "metadata": {},
     "output_type": "display_data"
    },
    {
     "data": {
      "image/png": "[encoded data removed]",
      "text/plain": [
       "<matplotlib.figure.Figure at 0x10d7b5450>"
      ]
     },
     "metadata": {},
     "output_type": "display_data"
    }
   ],
   "source": [
    "random.seed('1234')\n",
    "sigma = 0.4\n",
    "epsilon = 0.4  # probability to switch from red to blue pebble, and vice versa\n",
    "\n",
    "pylab.figure()\n",
    "\n",
    "s_map_red =  [(1.0, 1.0), (2.0, 1.0), (3.0, 1.0), \n",
    "              (1.0, 2.0), (2.0, 2.0), (3.0, 2.0), \n",
    "              (1.0, 3.0), (2.0, 3.0), (3.0, 3.0)] \n",
    "offset = 3.0\n",
    "s_map_blue = [(x+offset,y-offset) for (x,y) in s_map_red]\n",
    "\n",
    "color = 'red'  #chose 'red' or 'blue'\n",
    "site = 8\n",
    "tmax = 10\n",
    "\n",
    "\n",
    "\n",
    "for iter in range(tmax):\n",
    "    period = 4\n",
    "    if (iter%period) == 0:\n",
    "\t# Begin of graphical output\n",
    "        maxlength = len(str(tmax-1))\n",
    "        number_string = str(iter).zfill(maxlength)\n",
    "        if color == 'red':  cir = pylab.Circle(s_map_red[site],  radius=sigma, fc='r')\n",
    "        if color == 'blue': cir = pylab.Circle(s_map_blue[site], radius=sigma, fc='b')\n",
    "\tpylab.figure()\n",
    "        #pylab.subplot(2,2,iter)\n",
    "        pylab.gca().add_patch(cir)\n",
    "        double_grider()\n",
    "        pylab.title('t = '+ number_string)\n",
    "        pylab.axis('scaled')\n",
    "        pylab.axis([0.5, 6.5, -2.5, 3.5])\n",
    "        pylab.xticks([])\n",
    "        pylab.yticks([])\n",
    "        number_string_filename = str(iter/period).zfill(3)\n",
    "        #pylab.savefig('peeble_dual/pebble_dual_movie_epsilon_'+number_string_filename+'.png', transparent=True)\n",
    "        #pylab.clf()\n",
    "        #pylab.close()\n",
    "        pylab.show()\n",
    "\t# End of graphical output\n",
    "    \n",
    "    \n",
    "    \n",
    "    newsite = neighbor_o[site][ random.randint(0, 3)]\n",
    "    newcolor = color\n",
    "    if (color == 'red') and (site == 2) and (newsite == 2):\n",
    "        if random.random() < epsilon:\n",
    "            newcolor = 'blue'\n",
    "            newsite = 6\n",
    "            print \"transition red->blue at time = \", iter\n",
    "    if (color == 'blue') and (site == 6) and (newsite == 6):\n",
    "        if random.random() < epsilon:\n",
    "            newcolor = 'red'\n",
    "            newsite = 2\n",
    "            print \"transition blue->red at time = \", iter\n",
    "    site = newsite\n",
    "    color = newcolor\n"
   ]
  },
  {
   "cell_type": "markdown",
   "metadata": {},
   "source": [
    "* Pebble Dual Eigen"
   ]
  },
  {
   "cell_type": "code",
   "execution_count": 79,
   "metadata": {},
   "outputs": [
    {
     "name": "stdout",
     "output_type": "stream",
     "text": [
      "[ -5.02430015e-01  -5.00000000e-01   1.00000000e+00   9.92451031e-01\n",
      "   7.25649298e-01   5.00000000e-01   4.79023434e-01  -1.50050555e-02\n",
      "   2.40311308e-01   7.50000000e-01   7.50000000e-01   1.52303605e-17\n",
      "   7.50000000e-01  -1.04083409e-16   1.07326675e-17   2.50000000e-01\n",
      "   2.50000000e-01   2.50000000e-01]\n"
     ]
    }
   ],
   "source": [
    "import numpy\n",
    " \n",
    "neighbor =  [[1, 3, 0, 0], [2, 4, 0, 1], [2, 5, 1, 2],\n",
    "             [4, 6, 3, 0], [5, 7, 3, 1], [5, 8, 4, 2],\n",
    "             [7, 6, 6, 3], [8, 7, 6, 4], [8, 8, 7, 5]]\n",
    "transfer = numpy.zeros((18, 18))\n",
    "for k in range(9):\n",
    "    for neigh in range(4): \n",
    "        transfer[neighbor[k][neigh], k] += 0.25     # red pebble game\n",
    "        transfer[neighbor[k][neigh]+9, k+9] += 0.25 # blue pebble game   \n",
    "# small transition epsilon between red 2 and blue 6\n",
    "epsilon = 0.04\n",
    "transfer[6+9,2] = transfer[2,6+9] = epsilon\n",
    "transfer[2,2] -= epsilon\n",
    "transfer[6+9,6+9] -= epsilon\n",
    "eigenvalues, eigenvectors = numpy.linalg.eig(transfer)\n",
    "print eigenvalues\n",
    " \n",
    "# you may print the eigenvectors by uncommenting the following four lines\n",
    "#for iter in range(18):\n",
    "#    print eigenvalues[iter]\n",
    "#    for i in range(18):\n",
    "#        print eigenvectors[i][iter]\n"
   ]
  },
  {
   "cell_type": "markdown",
   "metadata": {},
   "source": [
    "* Pebble Recrrunt Movie"
   ]
  },
  {
   "cell_type": "code",
   "execution_count": 82,
   "metadata": {},
   "outputs": [
    {
     "data": {
      "text/plain": [
       "<matplotlib.figure.Figure at 0x10a282e10>"
      ]
     },
     "metadata": {},
     "output_type": "display_data"
    },
    {
     "data": {
      "image/png": "[encoded data removed]",
      "text/plain": [
       "<matplotlib.figure.Figure at 0x10d7b5350>"
      ]
     },
     "metadata": {},
     "output_type": "display_data"
    },
    {
     "data": {
      "image/png": "[encoded data removed]",
      "text/plain": [
       "<matplotlib.figure.Figure at 0x109f6df50>"
      ]
     },
     "metadata": {},
     "output_type": "display_data"
    },
    {
     "data": {
      "image/png": "[encoded data removed]",
      "text/plain": [
       "<matplotlib.figure.Figure at 0x109bdfd10>"
      ]
     },
     "metadata": {},
     "output_type": "display_data"
    },
    {
     "data": {
      "image/png": "[encoded data removed]",
      "text/plain": [
       "<matplotlib.figure.Figure at 0x10a12c050>"
      ]
     },
     "metadata": {},
     "output_type": "display_data"
    },
    {
     "data": {
      "image/png": "[encoded data removed]",
      "text/plain": [
       "<matplotlib.figure.Figure at 0x10bd60250>"
      ]
     },
     "metadata": {},
     "output_type": "display_data"
    }
   ],
   "source": [
    "import math, random, pylab\n",
    "\n",
    "sigma = 0.4\n",
    "epsilon = 0.1\n",
    "pylab.figure()\n",
    "s_map = [(1.0, 1.0), (2.0, 1.0)] \n",
    "neighbor =  [[1], [0]]\n",
    "pos = 0\n",
    "tmax = 5\n",
    "for iter in range(tmax):\n",
    "    # Begin of the graphics output\n",
    "    pylab.figure()\n",
    "    number_string = str(iter).zfill(len(str(tmax)))\n",
    "    cir = pylab.Circle(s_map[pos], radius=sigma, fc='r')\n",
    "    pylab.gca().add_patch(cir)\n",
    "    pylab.plot([1.5, 1.5], [0.5, 1.5], 'b')\n",
    "    pylab.title('t = '+ number_string)\n",
    "    pylab.axis('scaled')\n",
    "    pylab.axis([0.5, 2.5, 0.5, 1.5])\n",
    "    pylab.xticks([])\n",
    "    pylab.yticks([])\n",
    "    pylab.savefig('recurrent/2x1pebble_epsilon'+number_string+'.png', transparent=True)\n",
    "    #pylab.close()\n",
    "    pylab.show()\n",
    "    # End of the graphics output\n",
    "    newpos = neighbor[pos][0]\n",
    "    if random.random() < epsilon:\n",
    "        newpos = pos\n",
    "    pos = newpos\n"
   ]
  },
  {
   "cell_type": "code",
   "execution_count": 83,
   "metadata": {},
   "outputs": [
    {
     "name": "stdout",
     "output_type": "stream",
     "text": [
      "[ 1.   -0.98]\n"
     ]
    }
   ],
   "source": [
    "import numpy\n",
    "\n",
    "epsilon = 0.01\n",
    "transfer = [[ epsilon, 1.0 - epsilon ],\n",
    "            [ 1.0 - epsilon, epsilon ]]\n",
    "eigenvalues, eigenvectors = numpy.linalg.eig(transfer)\n",
    "print eigenvalues\n",
    " \n",
    "# you may print the eigenvectors by uncommenting the following lines...\n",
    "#for iter in range(2):\n",
    "#    print eigenvalues[iter]\n",
    "#    for i in range(2):\n",
    "#       print eigenvectors[i][iter]\n"
   ]
  }
 ],
 "metadata": {
  "kernelspec": {
   "display_name": "Python 3",
   "language": "python",
   "name": "python3"
  },
  "language_info": {
   "codemirror_mode": {
    "name": "ipython",
    "version": 3
   },
   "file_extension": ".py",
   "mimetype": "text/x-python",
   "name": "python",
   "nbconvert_exporter": "python",
   "pygments_lexer": "ipython3",
   "version": "3.7.6"
  }
 },
 "nbformat": 4,
 "nbformat_minor": 1
}
