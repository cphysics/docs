{
 "cells": [
  {
   "cell_type": "markdown",
   "metadata": {},
   "source": [
    "# Harmonic Oscillator using HMC"
   ]
  },
  {
   "cell_type": "markdown",
   "metadata": {},
   "source": [
    "### Import the Library"
   ]
  },
  {
   "cell_type": "code",
   "execution_count": 1,
   "metadata": {},
   "outputs": [],
   "source": [
    "'''import section'''\n",
    "import numpy as np\n",
    "import matplotlib.pyplot as plt\n",
    "import math as  math\n",
    "import random as random"
   ]
  },
  {
   "cell_type": "markdown",
   "metadata": {},
   "source": [
    "We want to apply HMC to collection of 100 independent Harmonic Oscillator to get equilibrium configuration."
   ]
  },
  {
   "cell_type": "markdown",
   "metadata": {},
   "source": [
    "### Hamiltonian"
   ]
  },
  {
   "cell_type": "markdown",
   "metadata": {},
   "source": [
    "Hamiltonian of Harmonic Oscillator in 1D is:\n",
    "    $H = \\frac{1}{2} p^{2} + \\frac{1}{2}q^{2}$ with $ m = 1,k = 1$"
   ]
  },
  {
   "cell_type": "markdown",
   "metadata": {},
   "source": [
    "This function calculates the  total Hamiltonian of the configuration\n"
   ]
  },
  {
   "cell_type": "code",
   "execution_count": 2,
   "metadata": {
    "collapsed": true
   },
   "outputs": [],
   "source": [
    "def hamiltonian(x,p,np):\n",
    "    '''x,p: x and p are list of position and momentum'''\n",
    "    '''np : number of particles in the system '''\n",
    "    H = 0.0\n",
    "    for k in range(np):\n",
    "            H = H + ((x[k]*x[k])/2.0 + (p[k]*p[k])/2.0 )\n",
    "    return H      "
   ]
  },
  {
   "cell_type": "markdown",
   "metadata": {},
   "source": [
    "### Generating Random Momentum"
   ]
  },
  {
   "cell_type": "markdown",
   "metadata": {},
   "source": [
    "In order to generate random momentum we use \"random.gauss\""
   ]
  },
  {
   "cell_type": "code",
   "execution_count": 3,
   "metadata": {
    "collapsed": true
   },
   "outputs": [],
   "source": [
    "def drawp(np):\n",
    "    '''this function returns a list of random numbers'''\n",
    "    t = [0.0 for k in range(np)]\n",
    "    for k in range(np):\n",
    "        r = random.gauss(0.0,1.0)\n",
    "        t[k] = r\n",
    "    return(t)       "
   ]
  },
  {
   "cell_type": "markdown",
   "metadata": {},
   "source": [
    "One can check whether the generated numbers are normally distributed or not by doing:"
   ]
  },
  {
   "cell_type": "code",
   "execution_count": 4,
   "metadata": {},
   "outputs": [
    {
     "data": {
      "image/png": "[encoded data removed]",
      "text/plain": [
       "<matplotlib.figure.Figure at 0x10b6af910>"
      ]
     },
     "metadata": {},
     "output_type": "display_data"
    }
   ],
   "source": [
    "\n",
    "N = 100000 \n",
    "p = [0.0 for k in range(N)]\n",
    "p = drawp(N)\n",
    "num_bins = 20\n",
    "plt.figure(1)\n",
    "plt.hist(p,num_bins, normed= 1.0, facecolor='green', alpha = 0.5)\n",
    "plt.show()"
   ]
  },
  {
   "cell_type": "markdown",
   "metadata": {
    "collapsed": true
   },
   "source": [
    "### Leap Frog "
   ]
  },
  {
   "cell_type": "markdown",
   "metadata": {},
   "source": [
    "We will use leap frog approximation to evolve the system according to time."
   ]
  },
  {
   "cell_type": "code",
   "execution_count": 5,
   "metadata": {},
   "outputs": [],
   "source": [
    "def leap_frog(N,dt,ix,ip,np):\n",
    "    \n",
    "        ''' N : number of steps to evolve\n",
    "            dt:  fraction of time ie T  = dt*N\n",
    "            ix,ip : initial position and momentum\n",
    "            np : number of the particles in the system\n",
    "        '''\n",
    "        ''' Returns\n",
    "          x,p : final position and momentum'''   \n",
    "    \n",
    "    \n",
    "        x = ix\n",
    "        p = ip\n",
    "        k = 0\n",
    "        while k < N:\n",
    "            if k == 0:\n",
    "                    for i in range(np):\n",
    "                        p[i] = p[i] - ((dt/2.0)*x[i])\n",
    "            elif k > 0 :\n",
    "                    if k < N - 1:\n",
    "                        for i in range(np):   \n",
    "                            x[i] = x[i] + (dt*p[i])\n",
    "                            p[i] =   p[i] - (dt*x[i])\n",
    "                            #S1 = hamiltonian(x,p,np)\n",
    "                            #print \"k =\",k,\"S1=\",S1\n",
    "                            \n",
    "            elif k == N - 1:\n",
    "                          for i in range(np): \n",
    "                            p[i] = (p[i] - (dt/2.0)*x[i])\n",
    "                       \n",
    "            k = k+1\n",
    "        return x,p"
   ]
  },
  {
   "cell_type": "markdown",
   "metadata": {},
   "source": [
    "### HMC"
   ]
  },
  {
   "cell_type": "markdown",
   "metadata": {},
   "source": [
    "Here we run the HMC - simulation"
   ]
  },
  {
   "cell_type": "code",
   "execution_count": 6,
   "metadata": {},
   "outputs": [],
   "source": [
    "def HMC(np,N,dt,steps,x0):\n",
    "    \n",
    "    ''' np : number of particles in the system\n",
    "        N = number of steps in Leap - Frog\n",
    "        dt = fraction of time in Leap - Frog\n",
    "        steps: total steps in HMC '''\n",
    "    \n",
    "    \n",
    "       \n",
    "    xt = [0.0 for k in range(np)]\n",
    "    pt = [0.0 for k in range(np)]\n",
    "\n",
    "    \n",
    "    p0 = drawp(np)\n",
    "    H = [0.0 for k in range(steps)]\n",
    "       \n",
    "    S0 = hamiltonian(x0,p0,np)\n",
    "    print \"=======>\", 0,\"S0=\", S0\n",
    "\n",
    "\n",
    "\n",
    "    chain = 1\n",
    "    total_frac =  0.0\n",
    "    while chain < steps:\n",
    "        s_stor = [0.0]\n",
    "        xt,pt = leap_frog(N,dt,x0,p0,np)\n",
    "        S1 = hamiltonian(xt,pt,np)\n",
    "        frac = math.exp(-(S1-S0))\n",
    "        #print frac\n",
    "        a = min(1,frac)\n",
    "        b = random.uniform(0.0,1.0)\n",
    "\n",
    "        if b < a:\n",
    "            print \"=======>\", chain, \"S1=\",S1,frac,a,b\n",
    "            H[chain] = S1\n",
    "            x0 = xt\n",
    "            p0 = drawp(np)\n",
    "            S0 = hamiltonian(x0,p0,np)\n",
    "        else:\n",
    "            H[chain] = S0\n",
    "            p0 = drawp(np)\n",
    "            \n",
    "        chain = chain+1\n",
    "            \n",
    "    return H   "
   ]
  },
  {
   "cell_type": "markdown",
   "metadata": {},
   "source": [
    "### Run HMC"
   ]
  },
  {
   "cell_type": "markdown",
   "metadata": {},
   "source": [
    "Steps to run"
   ]
  },
  {
   "cell_type": "markdown",
   "metadata": {},
   "source": [
    "### Seting Constants"
   ]
  },
  {
   "cell_type": "code",
   "execution_count": 8,
   "metadata": {
    "collapsed": true
   },
   "outputs": [],
   "source": [
    "np = 1000\n",
    "N = 1000\n",
    "dt = 0.001\n",
    "steps = 100"
   ]
  },
  {
   "cell_type": "markdown",
   "metadata": {},
   "source": [
    "Call HMC"
   ]
  },
  {
   "cell_type": "code",
   "execution_count": 10,
   "metadata": {},
   "outputs": [
    {
     "name": "stdout",
     "output_type": "stream",
     "text": [
      "=======> 0 S0= 634.329642425\n",
      "=======> 1 S1= 634.176644431 1.1653226407 1 0.733718825241\n",
      "=======> 2 S1= 860.433247645 1.04820040462 1 0.118879577619\n",
      "=======> 3 S1= 959.0880056 1.02823941879 1 0.494715009236\n",
      "=======> 4 S1= 995.098781516 1.00201905305 1 0.26041376277\n",
      "=======> 5 S1= 1014.46067223 0.996173462387 0.996173462387 0.973534507459\n",
      "=======> 6 S1= 1060.1975905 1.00650260273 1 0.0433863045125\n",
      "=======> 7 S1= 1056.67125783 1.0046068542 1 0.318541041274\n",
      "=======> 8 S1= 1007.92542371 0.972470680716 0.972470680716 0.641673826227\n",
      "=======> 9 S1= 1019.45210409 0.999868096288 0.999868096288 0.673753652179\n",
      "=======> 10 S1= 1033.75761347 1.01455345167 1 0.904224474449\n",
      "=======> 11 S1= 1039.33277255 1.00067885822 1 0.922841618884\n",
      "=======> 12 S1= 977.786623826 0.969824483296 0.969824483296 0.0534599327409\n",
      "=======> 13 S1= 982.135607524 0.981771694716 0.981771694716 0.0888855631239\n",
      "=======> 14 S1= 984.434076216 1.00314168125 1 0.900050557869\n",
      "=======> 15 S1= 979.489618274 1.00009113341 1 0.65844667362\n",
      "=======> 16 S1= 971.111139684 0.999416129807 0.999416129807 0.655811347266\n",
      "=======> 17 S1= 968.559937229 0.988931685077 0.988931685077 0.423820846374\n",
      "=======> 18 S1= 1015.44100508 1.01079386585 1 0.286496247338\n",
      "=======> 19 S1= 1001.41694142 1.00450602184 1 0.083130176045\n",
      "=======> 20 S1= 960.860002507 0.990150380448 0.990150380448 0.0519649287677\n",
      "=======> 21 S1= 933.474638737 1.00388363176 1 0.46189851642\n",
      "=======> 22 S1= 934.623173003 1.00369016883 1 0.495986113076\n",
      "=======> 23 S1= 989.4356649 0.996338227827 0.996338227827 0.531254896848\n",
      "=======> 24 S1= 1025.92286005 1.00861885908 1 0.313190008068\n",
      "=======> 25 S1= 1013.92821481 0.99071689113 0.99071689113 0.758255203087\n",
      "=======> 26 S1= 984.231043708 1.00076682019 1 0.843966385214\n",
      "=======> 27 S1= 947.27251361 1.01126395915 1 0.583020435715\n",
      "=======> 28 S1= 940.456922734 1.02975887887 1 0.595715587061\n",
      "=======> 29 S1= 1021.02868528 1.0253436546 1 0.00374011822671\n",
      "=======> 30 S1= 1044.50742208 1.01629498318 1 0.879696971454\n",
      "=======> 31 S1= 1004.58078536 0.991459152846 0.991459152846 0.707240349329\n",
      "=======> 32 S1= 974.925563796 0.998420468809 0.998420468809 0.929684182116\n",
      "=======> 33 S1= 990.203727805 1.00391617234 1 0.698723615461\n",
      "=======> 34 S1= 970.184852439 0.972615104041 0.972615104041 0.568697026237\n",
      "=======> 35 S1= 1006.22736678 1.02654444157 1 0.852950015052\n",
      "=======> 36 S1= 998.92636329 0.988291037764 0.988291037764 0.379738519717\n",
      "=======> 37 S1= 1030.24158673 0.983339277845 0.983339277845 0.757129957835\n",
      "=======> 39 S1= 1025.25902821 2.57411624753e+11 1 0.0463867804879\n",
      "=======> 40 S1= 1014.17028424 1.00196224 1 0.43927515854\n",
      "=======> 41 S1= 969.658672095 0.99242843551 0.99242843551 0.607817867387\n",
      "=======> 42 S1= 965.791453024 0.997937568522 0.997937568522 0.208140784376\n",
      "=======> 43 S1= 915.270272438 0.984914926098 0.984914926098 0.0439698970697\n",
      "=======> 44 S1= 961.813210918 1.04321328147 1 0.219150007161\n",
      "=======> 45 S1= 950.972655041 0.999032011959 0.999032011959 0.469070790857\n",
      "=======> 46 S1= 979.203355916 1.00739610649 1 0.987271370304\n",
      "=======> 47 S1= 963.762907782 1.0269051626 1 0.228776920354\n",
      "=======> 48 S1= 949.920749247 1.00736064522 1 0.443149065727\n",
      "=======> 49 S1= 1021.89675351 1.02219667178 1 0.562416696674\n",
      "=======> 50 S1= 1045.94052152 1.01372753928 1 0.449516449873\n",
      "=======> 51 S1= 1022.03904161 1.00609459087 1 0.216552050456\n",
      "=======> 52 S1= 1008.12344917 0.986500719573 0.986500719573 0.484734159393\n",
      "=======> 53 S1= 983.162882167 1.00790784095 1 0.636702880429\n",
      "=======> 54 S1= 1013.81551942 1.01409814001 1 4.81073520403e-05\n",
      "=======> 55 S1= 1010.85292888 1.01025417351 1 0.149774761606\n",
      "=======> 56 S1= 999.558517909 1.00130374632 1 0.964433917429\n",
      "=======> 57 S1= 1007.70305301 0.991591621018 0.991591621018 0.441621732618\n",
      "=======> 58 S1= 1035.64389008 0.99519261928 0.99519261928 0.0886792040929\n",
      "=======> 59 S1= 1010.89736177 0.992819333052 0.992819333052 0.919392595293\n",
      "=======> 60 S1= 1018.43419346 1.03093518871 1 0.490427219365\n",
      "=======> 61 S1= 1029.3748498 1.02052172977 1 0.775699542826\n",
      "=======> 62 S1= 1008.38007901 0.981519448603 0.981519448603 0.103399004587\n",
      "=======> 63 S1= 1013.60095323 0.995815163828 0.995815163828 0.510309286351\n",
      "=======> 64 S1= 994.410649009 0.991837188211 0.991837188211 0.310897384492\n",
      "=======> 65 S1= 994.116396391 0.993409094913 0.993409094913 0.768301617641\n",
      "=======> 66 S1= 1006.13575458 0.989289998424 0.989289998424 0.0895708870016\n",
      "=======> 67 S1= 1050.91856039 0.99704078393 0.99704078393 0.121374733941\n",
      "=======> 68 S1= 1017.75278059 0.973890480407 0.973890480407 0.686366119542\n",
      "=======> 69 S1= 995.879923494 1.00767777078 1 0.735823324802\n",
      "=======> 70 S1= 943.442902305 0.99834110281 0.99834110281 0.55392468377\n",
      "=======> 71 S1= 1000.71447811 1.03263450015 1 0.251331122407\n",
      "=======> 72 S1= 1004.9542924 0.986986118235 0.986986118235 0.878474840287\n",
      "=======> 73 S1= 1006.77014848 1.00896660084 1 0.522078869728\n",
      "=======> 74 S1= 994.563680798 1.00299539687 1 0.484478355029\n",
      "=======> 75 S1= 992.464156392 1.01160947857 1 0.0726515554188\n",
      "=======> 76 S1= 1032.73546321 1.00979569001 1 0.135635688016\n",
      "=======> 82 S1= 972.617554632 516459.37774 1 0.218468658673\n",
      "=======> 83 S1= 954.034538674 0.988720489167 0.988720489167 0.787692132405\n",
      "=======> 84 S1= 987.112031092 1.00765876819 1 0.633473950464\n",
      "=======> 85 S1= 1017.30900049 0.987977157391 0.987977157391 0.845728433192\n",
      "=======> 86 S1= 1077.42941197 1.0187661378 1 0.220075666386\n",
      "=======> 87 S1= 1052.6648128 1.00363767186 1 0.486906416463\n",
      "=======> 88 S1= 1021.30595102 1.01204872528 1 0.925931423529\n",
      "=======> 89 S1= 997.770911129 1.0139249168 1 0.880471281482\n",
      "=======> 90 S1= 977.391794605 1.01080296415 1 0.00720408839598\n",
      "=======> 91 S1= 971.101936763 0.994794720856 0.994794720856 0.653042189832\n",
      "=======> 92 S1= 984.018511787 0.996881531283 0.996881531283 0.763730120442\n",
      "=======> 93 S1= 996.771079992 1.02931942658 1 0.982855323235\n",
      "=======> 94 S1= 986.597018438 0.994872537714 0.994872537714 0.81748404728\n",
      "=======> 95 S1= 957.950186927 0.99876353159 0.99876353159 0.19244008715\n",
      "=======> 96 S1= 986.873852747 1.00908608477 1 0.306752182025\n",
      "=======> 97 S1= 979.964652828 0.99670144889 0.99670144889 0.926651912953\n",
      "=======> 98 S1= 946.617639244 0.992433587915 0.992433587915 0.124414236105\n",
      "=======> 99 S1= 977.089862612 1.00594584499 1 0.32264646888\n"
     ]
    }
   ],
   "source": [
    "x0 = [1.0 for k in range(np)]\n",
    "x0 = [random.uniform(0.0,1.0) for k in range(np)]\n",
    "H = HMC(np,N,dt,steps,x0)  "
   ]
  },
  {
   "cell_type": "markdown",
   "metadata": {},
   "source": [
    "### Plot"
   ]
  },
  {
   "cell_type": "code",
   "execution_count": 11,
   "metadata": {},
   "outputs": [
    {
     "data": {
      "image/png": "[encoded data removed]",
      "text/plain": [
       "<matplotlib.figure.Figure at 0x10bd2f050>"
      ]
     },
     "metadata": {},
     "output_type": "display_data"
    }
   ],
   "source": [
    "t = [1.0*k for k in range (steps)] \n",
    "plt.figure(12)\n",
    "plt.scatter(t,H)\n",
    "plt.show()"
   ]
  }
 ],
 "metadata": {
  "kernelspec": {
   "display_name": "Python 3",
   "language": "python",
   "name": "python3"
  },
  "language_info": {
   "codemirror_mode": {
    "name": "ipython",
    "version": 2
   },
   "file_extension": ".py",
   "mimetype": "text/x-python",
   "name": "python",
   "nbconvert_exporter": "python",
   "pygments_lexer": "ipython2",
   "version": "2.7.6"
  }
 },
 "nbformat": 4,
 "nbformat_minor": 1
}
